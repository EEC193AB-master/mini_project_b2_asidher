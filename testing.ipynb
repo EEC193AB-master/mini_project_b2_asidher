{
 "cells": [
  {
   "cell_type": "code",
   "execution_count": 15,
   "metadata": {},
   "outputs": [
    {
     "name": "stdout",
     "output_type": "stream",
     "text": [
      "(6, 2)\n",
      "[1 2 3 4 5 6]\n"
     ]
    }
   ],
   "source": [
    "import numpy as np\n",
    "\n",
    "dummy = np.array([[1, 2, 3, 4, 5, 6],\n",
    "         [7, 8, 9, 10, 11, 12]])\n",
    "\n",
    "dummy = dummy.transpose()\n",
    "print(np.shape(dummy))\n",
    "print(dummy[:, 0])"
   ]
  },
  {
   "cell_type": "code",
   "execution_count": 2,
   "metadata": {},
   "outputs": [],
   "source": [
    "scaled_dummy = np.array(dummy)\n",
    "\n",
    "scaled_dummy[:, 0] = (scaled_dummy[:, 0] - 12)"
   ]
  },
  {
   "cell_type": "code",
   "execution_count": 26,
   "metadata": {},
   "outputs": [
    {
     "data": {
      "text/plain": [
       "3"
      ]
     },
     "execution_count": 26,
     "metadata": {},
     "output_type": "execute_result"
    }
   ],
   "source": [
    "13 % 5"
   ]
  },
  {
   "cell_type": "code",
   "execution_count": 31,
   "metadata": {},
   "outputs": [
    {
     "name": "stdout",
     "output_type": "stream",
     "text": [
      "(11, 2)\n"
     ]
    }
   ],
   "source": [
    "length = 11\n",
    "pad_len = int(abs(len(dummy) - length) / 2)\n",
    "\n",
    "pad_dummy = []\n",
    "for i in range(2):\n",
    "    pad = dummy[:, i]\n",
    "    pad = np.pad(pad, (pad_len,))\n",
    "\n",
    "    if len(pad) < length:\n",
    "        pad = np.append(pad, [0])\n",
    "    pad_dummy.append(pad)\n",
    "\n",
    "pad_dummy = np.transpose(pad_dummy)\n",
    "\n",
    "print(np.shape(pad_dummy))"
   ]
  },
  {
   "cell_type": "code",
   "execution_count": 4,
   "metadata": {},
   "outputs": [
    {
     "name": "stdout",
     "output_type": "stream",
     "text": [
      "[[ 1  7]\n",
      " [ 2  8]\n",
      " [ 3  9]\n",
      " [ 4 10]]\n"
     ]
    }
   ],
   "source": [
    "length = 4\n",
    "shrink_dummy = []\n",
    "\n",
    "for i in range(2):\n",
    "    shrk = dummy[:length, i]\n",
    "    shrink_dummy.append(shrk)\n",
    "\n",
    "shrink_dummy = np.transpose(shrink_dummy)\n",
    "print(shrink_dummy)"
   ]
  },
  {
   "cell_type": "code",
   "execution_count": 14,
   "metadata": {},
   "outputs": [
    {
     "name": "stdout",
     "output_type": "stream",
     "text": [
      "0\n",
      "1\n"
     ]
    },
    {
     "data": {
      "text/plain": [
       "array([[ 1,  2,  3,  4,  5,  6],\n",
       "       [ 7,  8,  9, 10, 11, 12]])"
      ]
     },
     "execution_count": 14,
     "metadata": {},
     "output_type": "execute_result"
    }
   ],
   "source": [
    "dummy = np.array(dummy)\n",
    "\n",
    "for idx in range(np.shape(dummy)[1]):\n",
    "\n",
    "    print(idx)\n",
    "\n",
    "dummy.transpose()"
   ]
  },
  {
   "cell_type": "code",
   "execution_count": 16,
   "metadata": {},
   "outputs": [
    {
     "data": {
      "text/plain": [
       "array([[ 1,  2,  3,  4,  5,  6],\n",
       "       [ 7,  8,  9, 10, 11, 12]])"
      ]
     },
     "execution_count": 16,
     "metadata": {},
     "output_type": "execute_result"
    }
   ],
   "source": [
    "dummy.transpose()"
   ]
  },
  {
   "cell_type": "code",
   "execution_count": 17,
   "metadata": {},
   "outputs": [
    {
     "name": "stdout",
     "output_type": "stream",
     "text": [
      "6\n"
     ]
    }
   ],
   "source": [
    "print(len(dummy[:, 1]))"
   ]
  }
 ],
 "metadata": {
  "kernelspec": {
   "display_name": "ECE189A",
   "language": "python",
   "name": "python3"
  },
  "language_info": {
   "codemirror_mode": {
    "name": "ipython",
    "version": 3
   },
   "file_extension": ".py",
   "mimetype": "text/x-python",
   "name": "python",
   "nbconvert_exporter": "python",
   "pygments_lexer": "ipython3",
   "version": "3.10.8"
  }
 },
 "nbformat": 4,
 "nbformat_minor": 2
}
