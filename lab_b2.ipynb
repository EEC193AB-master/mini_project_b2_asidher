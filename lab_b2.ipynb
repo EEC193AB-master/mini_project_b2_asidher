{
 "cells": [
  {
   "cell_type": "markdown",
   "metadata": {},
   "source": [
    "# EEC 174AY Lab B2 "
   ]
  },
  {
   "cell_type": "code",
   "execution_count": 1,
   "metadata": {},
   "outputs": [
    {
     "data": {
      "text/html": [
       "\n",
       "<style>\n",
       ".text_cell_render p{\n",
       "    font-size: 130%;\n",
       "    line-height: 125%;\n",
       "}\n",
       "</style>\n"
      ],
      "text/plain": [
       "<IPython.core.display.HTML object>"
      ]
     },
     "execution_count": 1,
     "metadata": {},
     "output_type": "execute_result"
    }
   ],
   "source": [
    "from IPython.core.display import HTML\n",
    "HTML(\"\"\"\n",
    "<style>\n",
    ".text_cell_render p{\n",
    "    font-size: 130%;\n",
    "    line-height: 125%;\n",
    "}\n",
    "</style>\n",
    "\"\"\")"
   ]
  },
  {
   "cell_type": "code",
   "execution_count": 2,
   "metadata": {},
   "outputs": [],
   "source": [
    "from pathlib import Path\n",
    "\n",
    "import copy\n",
    "import matplotlib.pyplot as plt\n",
    "import numpy as np\n",
    "\n",
    "import pandas as pd\n",
    "import torch\n",
    "from torch import nn\n",
    "from torch.nn import functional as F\n",
    "from torch.autograd import Variable\n",
    "from torch.optim import SGD\n",
    "from torch.utils.data import DataLoader\n",
    "\n",
    "from sklearn.metrics import confusion_matrix, ConfusionMatrixDisplay\n",
    "\n",
    "from dataset import PVADataset\n",
    "\n",
    "from tqdm.auto import tqdm"
   ]
  },
  {
   "cell_type": "markdown",
   "metadata": {},
   "source": [
    "## Outline"
   ]
  },
  {
   "cell_type": "markdown",
   "metadata": {},
   "source": [
    "This lab will build your skills in utilizing LSTM networks so that you can apply deep learning to time series information\n",
    "\n",
    "1. you will code an LSTM network and apply it to a pre-built codebase. Your focus will be on the ML coding\n",
    "2. You will utilize a partially built code base and then finish it to detect ARDS in waveform data."
   ]
  },
  {
   "cell_type": "markdown",
   "metadata": {},
   "source": [
    "## LSTM Network"
   ]
  },
  {
   "cell_type": "markdown",
   "metadata": {},
   "source": [
    "LSTM is a network that is able to utilize time series information and learn long term patterns to make more accurate predictions than a normal neural network would be able to. We show the general network architecture as an instruction for what you will need to code."
   ]
  },
  {
   "cell_type": "markdown",
   "metadata": {},
   "source": [
    "<img src=\"The_LSTM_cell.png\" width=55% height=auto\\>"
   ]
  },
  {
   "cell_type": "markdown",
   "metadata": {},
   "source": [
    "You will be applying LSTM to the task of patient ventilator asynchrony (PVA) detection. We have supplied a bit of the code you will need. Your jobs will be the following:\n",
    "\n",
    "1. Code the `find_scaling_coefs`, `scale_breath`, and `pad_or_cut_breath` methods in the `PVADataset` class in `dataset.py`.\n",
    "2. Code a simple 1 layer LSTM network based on network schematics given above. You are welcome to use other resource for assistance as well.\n",
    "3. Run your LSTM model on PVA detection. How well does your model perform compared to your original Random Forest classifier? Why are you getting these results?\n",
    "4. Code a more complex 3 layer LSTM network. Do additional layers improve results? Why/Why not?\n",
    "\n",
    "For the math required we would advise you follow the [PyTorch LSTM mathematics](https://pytorch.org/docs/stable/generated/torch.nn.LSTM.html) "
   ]
  },
  {
   "cell_type": "markdown",
   "metadata": {},
   "source": [
    "Adopted from:\n",
    "\n",
    "- https://github.com/georgeyiasemis/Recurrent-Neural-Networks-from-scratch-using-PyTorch/blob/main/LICENSE"
   ]
  },
  {
   "cell_type": "code",
   "execution_count": 3,
   "metadata": {},
   "outputs": [],
   "source": [
    "class LSTMCell(nn.Module):\n",
    "    def __init__(self, input_size, hidden_units, bias=True):\n",
    "        super(LSTMCell, self).__init__()\n",
    "        self.input_size = input_size\n",
    "        self.hidden_units = hidden_units\n",
    "        self.bias = bias\n",
    "\n",
    "        # Create weights fully connected layers for the weights for x and h\n",
    "        self.xh = nn.Linear(input_size, hidden_units * 4, bias=bias)\n",
    "        self.hh = nn.Linear(hidden_units, hidden_units * 4, bias=bias)\n",
    "        self.reset_parameters()\n",
    "\n",
    "    # Normalize Weights\n",
    "    def reset_parameters(self):\n",
    "        std = 1.0 / np.sqrt(self.hidden_units)\n",
    "        for w in self.parameters():\n",
    "            w.data.uniform_(-std, std)\n",
    "\n",
    "    def forward(self, input, hx=None):\n",
    "\n",
    "        # Inputs:\n",
    "        #       input: of shape (batch_size, input_size)\n",
    "        #       hx: of shape (batch_size, hidden_units)\n",
    "        # Outputs:\n",
    "        #       hy: of shape (batch_size, hidden_units)\n",
    "        #       cy: of shape (batch_size, hidden_units)\n",
    "\n",
    "        if hx is None:\n",
    "            hx = Variable(input.new_zeros(input.size(0), self.hidden_units))\n",
    "            hx = (hx, hx)\n",
    "\n",
    "        hx, cx = hx\n",
    "\n",
    "        gates = self.xh(input) + self.hh(hx)\n",
    "\n",
    "        # Get gates (i_t, f_t, g_t, o_t)\n",
    "        i_t, f_t, g_t, o_t = gates.chunk(4, 1)\n",
    "\n",
    "        i_t = torch.sigmoid(i_t)\n",
    "        f_t = torch.sigmoid(f_t)\n",
    "        g_t = torch.tanh(g_t)\n",
    "        o_t = torch.sigmoid(o_t)\n",
    "\n",
    "        forget_gate = (cx * f_t)\n",
    "        input_gate = (i_t * g_t)\n",
    "\n",
    "        cy =  forget_gate + input_gate\n",
    "\n",
    "        output_gate = (o_t * torch.tanh(cy))\n",
    "\n",
    "        hy = output_gate\n",
    "\n",
    "        return (hy, cy)\n"
   ]
  },
  {
   "cell_type": "code",
   "execution_count": 4,
   "metadata": {},
   "outputs": [],
   "source": [
    "class LSTM(nn.Module):\n",
    "    '''\n",
    "        The shape for the input data is (batch_size, seq_length, input_size).\n",
    "        The shape for the output labels is (batch_size, output_size).\n",
    "    '''\n",
    "    def __init__(self, input_size, hidden_units, num_layers, bias, output_size):\n",
    "        \n",
    "        super(LSTM, self).__init__()\n",
    "        self.input_size = input_size\n",
    "        self.hidden_units = hidden_units\n",
    "        self.num_layers = num_layers\n",
    "        self.bias = bias\n",
    "        self.output_size = output_size\n",
    "\n",
    "        self.lstm_cell_list = nn.ModuleList()\n",
    "\n",
    "        self.lstm_cell_list.append(LSTMCell(self.input_size,\n",
    "                                            self.hidden_units,\n",
    "                                            self.bias))\n",
    "        for l in range(1, self.num_layers):\n",
    "            self.lstm_cell_list.append(LSTMCell(self.hidden_units,\n",
    "                                                self.hidden_units,\n",
    "                                                self.bias))\n",
    "\n",
    "        self.fc = nn.Linear(self.hidden_units, self.output_size)\n",
    "\n",
    "    def forward(self, input, hx=None):\n",
    "\n",
    "        # Input of shape (batch_size, seqence length , input_size)\n",
    "        #\n",
    "        # Output of shape (batch_size, output_size)\n",
    "\n",
    "        if hx is None:\n",
    "            if torch.cuda.is_available():\n",
    "                h0 = Variable(torch.zeros(self.num_layers, input.size(0), self.hidden_units).cuda())\n",
    "            else:\n",
    "                h0 = Variable(torch.zeros(self.num_layers, input.size(0), self.hidden_units))\n",
    "        else:\n",
    "             h0 = hx\n",
    "\n",
    "        outs = []\n",
    "\n",
    "        hidden = list()\n",
    "        for layer in range(self.num_layers):\n",
    "            hidden.append((h0[layer, :, :], h0[layer, :, :]))\n",
    "\n",
    "        for t in range(input.size(1)):\n",
    "\n",
    "            for layer in range(self.num_layers):\n",
    "\n",
    "                if layer == 0:\n",
    "                    hidden_l = self.lstm_cell_list[layer](\n",
    "                        input[:, t, :],\n",
    "                        (hidden[layer][0],hidden[layer][1])\n",
    "                        )\n",
    "                else:\n",
    "                    hidden_l = self.lstm_cell_list[layer](\n",
    "                        hidden[layer - 1][0],\n",
    "                        (hidden[layer][0], hidden[layer][1])\n",
    "                        )\n",
    "\n",
    "                hidden[layer] = hidden_l\n",
    "\n",
    "            outs.append(hidden_l[0])\n",
    "\n",
    "        out = outs[-1].squeeze()\n",
    "\n",
    "        out = self.fc(out)\n",
    "\n",
    "        return out"
   ]
  },
  {
   "cell_type": "code",
   "execution_count": 5,
   "metadata": {},
   "outputs": [],
   "source": [
    "class LSTMNetwork(nn.Module):\n",
    "    def __init__(self):\n",
    "        super(LSTMNetwork, self).__init__()\n",
    "        # Feel free to modify this\n",
    "        self.lstm_hidden_units = 32\n",
    "        # First layer is defined for you. Only have 2 input features (flow, pressure)\n",
    "        self.xi = nn.Linear(2, self.lstm_hidden_units)\n",
    "        self.xf = nn.Linear(2, self.lstm_hidden_units)\n",
    "        self.xo = nn.Linear(2, self.lstm_hidden_units)\n",
    "        self.xg = nn.Linear(2, self.lstm_hidden_units)\n",
    "\n",
    "        # \n",
    "        self.hi = nn.Linear(self.lstm_hidden_units, self.lstm_hidden_units)\n",
    "        self.hf = nn.Linear(self.lstm_hidden_units, self.lstm_hidden_units)\n",
    "        self.ho = nn.Linear(self.lstm_hidden_units, self.lstm_hidden_units)\n",
    "        self.hg = nn.Linear(self.lstm_hidden_units, self.lstm_hidden_units)\n",
    "\n",
    "        # Final layer is defined for you too. Have 3 potential output classes (normal, bsa, dta)\n",
    "        self.final_classification = nn.Linear(self.lstm_hidden_units, 3)\n",
    "        \n",
    "    def forward(self, x, hx = None):\n",
    "        if hx is None:\n",
    "            hx = Variable(x.new_zeros(x.size(0), x.size(1), self.lstm_hidden_units))\n",
    "            hx = (hx, hx)\n",
    "\n",
    "        hx, cx = hx\n",
    "\n",
    "        print('cx: ', np.shape(cx))\n",
    "\n",
    "        dummy = self.hi(hx)\n",
    "\n",
    "        print('dummy: ', np.shape(dummy))\n",
    "        \n",
    "        i_t = F.sigmoid(self.xi(x) + dummy)\n",
    "        f_t = F.sigmoid(self.xf(x) + self.hf(hx))\n",
    "        o_t = F.sigmoid(self.xo(x) + self.ho(hx))\n",
    "        g_t = F.tanh(self.xg(x) + self.hg(hx))\n",
    "\n",
    "        print('i_t: ', np.shape(i_t))\n",
    "\n",
    "        cx = torch.matmul(cx, f_t) + torch.matmul(i_t, g_t)\n",
    "\n",
    "        hy = torch.matmul(o_t, F.tanh(cx))\n",
    "\n",
    "        out = self.final_classification(hy)\n",
    "        \n",
    "        return out\n",
    "    "
   ]
  },
  {
   "cell_type": "code",
   "execution_count": 6,
   "metadata": {},
   "outputs": [],
   "source": [
    "def verify_coeffs(training_set, validation_set, testing_set):\n",
    "    print('Verifying cofficients match...')\n",
    "\n",
    "    # Load Flow Coefficients for Validation and Testing\n",
    "    flow_mus = [validation_set.flow_mu, testing_set.flow_mu]\n",
    "    flow_stds = [validation_set.flow_std, testing_set.flow_std]\n",
    "\n",
    "    # Load Pressure Coefficients for Validation and Testing\n",
    "    pressure_mus = [validation_set.pressure_mu, testing_set.pressure_mu]\n",
    "    pressure_stds = [validation_set.pressure_std, testing_set.pressure_std]\n",
    "\n",
    "    # Check if the Validation and Testing Coefficients match Training Coefficients               \n",
    "    for idx in range(len(flow_mus)):\n",
    "        if training_set.flow_mu != flow_mus[idx] or training_set.flow_std != flow_stds[idx] :\n",
    "            raise Exception('Flow coefficients do not match!')\n",
    "        elif training_set.pressure_mu != pressure_mus[idx] or training_set.pressure_std != pressure_stds[idx] :\n",
    "            raise Exception('Pressure coefficients do not match!')\n",
    "            \n",
    "    print('Coefficients match!')"
   ]
  },
  {
   "cell_type": "code",
   "execution_count": 7,
   "metadata": {},
   "outputs": [],
   "source": [
    "history = {\n",
    "    'model': str,\n",
    "    'batch_size': int,\n",
    "    'learning_rate': float,\n",
    "    'optimizer': str,\n",
    "    'training_loss': [],\n",
    "    'validation_loss': [],\n",
    "    'training_accuracy': [],\n",
    "    'validation_accuracy': []\n",
    "}"
   ]
  },
  {
   "cell_type": "code",
   "execution_count": 8,
   "metadata": {},
   "outputs": [],
   "source": [
    "seq_len = 224\n",
    "\n",
    "def get_dataset(path, name):\n",
    "    saved_set = Path(path)\n",
    "    # Make sure we save previously processed data. This speeds up future processes.\n",
    "    if saved_set.exists():\n",
    "        dataset = pd.read_pickle(saved_set.resolve())\n",
    "    else:\n",
    "        # use a sequence length of 224 inputs. If you want to shorten this feel free.\n",
    "        dataset = PVADataset(name, seq_len)\n",
    "        dataset.process_dataset()\n",
    "        pd.to_pickle(dataset, saved_set.resolve())\n",
    "    return dataset"
   ]
  },
  {
   "cell_type": "code",
   "execution_count": 9,
   "metadata": {},
   "outputs": [],
   "source": [
    "def get_all_datasets():\n",
    "    print('Loading Training Data')\n",
    "    training_set = get_dataset('pva_training_set.pkl', 'train')\n",
    "    print('Loading Validation Data')\n",
    "    validation_set = get_dataset('pva_validation_set.pkl', 'val')\n",
    "    print('Loading Testing Data')\n",
    "    testing_set = get_dataset('pva_testing_set.pkl', 'test')\n",
    "    return training_set, validation_set, testing_set"
   ]
  },
  {
   "cell_type": "code",
   "execution_count": 10,
   "metadata": {},
   "outputs": [
    {
     "name": "stdout",
     "output_type": "stream",
     "text": [
      "Loading Training Data\n",
      "flow mean:  0.2099094336978097\n",
      "pressure mean:  13.390133204339543\n",
      "flow std:  26.881777990013067\n",
      "pressure std:  7.950538376238067\n",
      "Loading Validation Data\n",
      "Loading Testing Data\n",
      "Verifying cofficients match...\n",
      "Coefficients match!\n"
     ]
    }
   ],
   "source": [
    "batch_size = 16\n",
    "num_workers = 4\n",
    "\n",
    "training_set, validation_set, testing_set = get_all_datasets()\n",
    "# XXX make sure val and testing share same coefficients as training set!!\n",
    "verify_coeffs(training_set, validation_set, testing_set)\n",
    "\n",
    "train_loader = DataLoader(training_set, batch_size=batch_size, shuffle=True, pin_memory=True, num_workers=num_workers, persistent_workers=True)\n",
    "val_loader = DataLoader(validation_set, batch_size=batch_size, shuffle=False, pin_memory=True)\n",
    "test_loader = DataLoader(testing_set, batch_size=batch_size, shuffle=False, pin_memory=True)\n",
    "# You can write up the rest of the code here. We have already given you most of\n",
    "# what you need to run the module yourself."
   ]
  },
  {
   "cell_type": "code",
   "execution_count": 11,
   "metadata": {},
   "outputs": [
    {
     "name": "stdout",
     "output_type": "stream",
     "text": [
      "torch.Size([16, 224, 2])\n",
      "torch.Size([16, 3])\n",
      "torch.Size([16, 224, 2])\n",
      "torch.Size([16, 3])\n",
      "torch.Size([16, 224, 2])\n",
      "torch.Size([16, 3])\n",
      "torch.Size([16, 224, 2])\n",
      "torch.Size([16, 3])\n"
     ]
    },
    {
     "data": {
      "image/png": "[encoded data removed]",
      "text/plain": [
       "<Figure size 640x480 with 1 Axes>"
      ]
     },
     "metadata": {},
     "output_type": "display_data"
    }
   ],
   "source": [
    "for i, set in enumerate(train_loader):\n",
    "    data = set[0]\n",
    "    label = set[1]\n",
    "    print(np.shape(data))\n",
    "    print(np.shape(label))\n",
    "\n",
    "    if i == 3:\n",
    "        break\n",
    "\n",
    "plt.plot(data[0, :, 0], label='flow')\n",
    "plt.plot(data[0, :, 1], label='pressure')\n",
    "plt.legend()\n",
    "plt.show()"
   ]
  },
  {
   "cell_type": "code",
   "execution_count": 12,
   "metadata": {},
   "outputs": [],
   "source": [
    "# Define Parameters\n",
    "num_epochs = 3\n",
    "lr = 0.01\n",
    "hist = copy.deepcopy(history)"
   ]
  },
  {
   "cell_type": "code",
   "execution_count": 13,
   "metadata": {},
   "outputs": [],
   "source": [
    "model = LSTM(input_size=2, hidden_units=32, num_layers=1, bias=0, output_size=3).cuda()\n",
    "# You should modify the learning rate as suits the problem\n",
    "optimizer = SGD(model.parameters(), lr=lr)\n",
    "bce = nn.BCEWithLogitsLoss()\n",
    "\n",
    "hist['model'] = 'LSTM'\n",
    "hist['batch_size'] = batch_size\n",
    "hist['learning_rate'] = lr\n",
    "hist['optimizer'] = 'BCE'"
   ]
  },
  {
   "cell_type": "code",
   "execution_count": 14,
   "metadata": {},
   "outputs": [],
   "source": [
    "def perform_inferencing(model, loader):\n",
    "    model.cuda()\n",
    "\n",
    "    predictions = []\n",
    "    test_labels = []\n",
    "\n",
    "    model.eval()\n",
    "\n",
    "    with torch.no_grad():\n",
    "        for x, y in loader:\n",
    "\n",
    "            # Load images/labels onto GPU\n",
    "            x = Variable(x.float()).cuda()\n",
    "            y = Variable(y.float()).cuda()\n",
    "\n",
    "            labels = torch.max(y, 1)[1].cpu().numpy()\n",
    "\n",
    "            output = model(x.float())\n",
    "            predicted = (torch.max(torch.exp(output), 1))[1].cpu().numpy()\n",
    "            predictions.extend(predicted)\n",
    "\n",
    "            test_labels.extend(labels)\n",
    "\n",
    "    return predictions, test_labels"
   ]
  },
  {
   "cell_type": "code",
   "execution_count": 15,
   "metadata": {},
   "outputs": [],
   "source": [
    "def validation(model, test_loader, loss_fn):\n",
    "    model.cuda()\n",
    "    loss_per_bacth = []\n",
    "\n",
    "    # Put model into evaluation Mode\n",
    "    model.eval()\n",
    "\n",
    "    with torch.no_grad():\n",
    "        with tqdm(enumerate(test_loader), unit=\"batch\", total=len(test_loader)) as tbatches:\n",
    "            for i, data in tbatches:\n",
    "                tbatches.set_description(f\"Testing Against Validation:\")\n",
    "                # Load Flow and Pressure Data\n",
    "                x = data[0]\n",
    "                # Load Labels\n",
    "                y = data[1]\n",
    "                \n",
    "                # Load images/labels onto GPU\n",
    "                x = Variable(x.float()).cuda()\n",
    "                y = Variable(y.float()).cuda()\n",
    "\n",
    "                outputs = model(x)\n",
    "                loss = loss_fn(outputs, y)\n",
    "                loss_per_bacth.append(loss.item())\n",
    "\n",
    "    return loss_per_bacth"
   ]
  },
  {
   "cell_type": "code",
   "execution_count": 16,
   "metadata": {},
   "outputs": [],
   "source": [
    "def test_accuracy(model, data_loader):\n",
    "    model.cuda()\n",
    "    correct = 0\n",
    "    total = 0\n",
    "    accuracy = 0\n",
    "\n",
    "    # Put model into evaluation Mode\n",
    "    model.eval()\n",
    "\n",
    "    with torch.no_grad():\n",
    "        with tqdm(enumerate(data_loader), unit=\"batch\", total=len(data_loader)) as tbatches:\n",
    "            for i, data in tbatches:\n",
    "                tbatches.set_description(f\"Testing Accuracy:\")\n",
    "                # Load Flow and Pressure Data\n",
    "                x = data[0]\n",
    "                # Load Labels\n",
    "                y = data[1]\n",
    "\n",
    "                # Load images/labels onto GPU\n",
    "                x = Variable(x.float()).cuda()\n",
    "                y = Variable(y.float()).cuda()\n",
    "\n",
    "                labels = torch.max(y, 1)[1]\n",
    "                \n",
    "                outputs = model(x)\n",
    "                _, predicted = torch.max(outputs, 1)\n",
    "                total += y.size(0)\n",
    "                correct += (predicted == labels).sum().item()\n",
    "            accuracy = (100 * correct / total)\n",
    "\n",
    "    return accuracy"
   ]
  },
  {
   "cell_type": "code",
   "execution_count": 17,
   "metadata": {},
   "outputs": [],
   "source": [
    "def train(model, loss_fn, optimizer, train_loader, test_loader, num_epochs, history):\n",
    "\n",
    "    model.cuda()\n",
    "\n",
    "    # Iterate through all Epochs\n",
    "    for epoch in range(num_epochs):\n",
    "        # Init train loss\n",
    "        train_loss = []\n",
    "\n",
    "        # Set model to train at the start of every epoch\n",
    "        model.train()\n",
    "        with tqdm(enumerate(train_loader), unit=\"batch\", total=len(train_loader)) as tepoch:\n",
    "            # Iterate through training dataset\n",
    "            for i, data in tepoch:\n",
    "                tepoch.set_description(f\"Epoch {epoch + 1}\")\n",
    "\n",
    "                # Load Flow and Pressure Data\n",
    "                x = data[0]\n",
    "                # Load Labels\n",
    "                y = data[1]\n",
    "\n",
    "                # Load images/labels onto GPU\n",
    "                x = Variable(x.float()).cuda()\n",
    "                y = Variable(y.float()).cuda()\n",
    "\n",
    "                # print(np.shape(x))\n",
    "                # print(np.shape(y))\n",
    "\n",
    "                # Zero collected gradients at each step\n",
    "                optimizer.zero_grad()\n",
    "                # Forward Propagate\n",
    "                outputs = model(x)\n",
    "                # Calculate Loss\n",
    "                loss = loss_fn(outputs, y)\n",
    "                # Store Loss\n",
    "                train_loss.append(loss.item())\n",
    "                # Back propagate\n",
    "                loss.backward()\n",
    "                # Update weights\n",
    "                optimizer.step()\n",
    "\n",
    "                # tepoch.set_postfix(training_loss=loss.item())\n",
    "\n",
    "        # Print statistics on every epoch\n",
    "        # Calculate validation loss for this epoch\n",
    "        validation_loss = validation(model=model, test_loader=test_loader, loss_fn=loss_fn)\n",
    "        # Calculate mean of validation loss\n",
    "        mean_val_loss = np.mean(validation_loss)\n",
    "        # Calculate mean of training loss\n",
    "        mean_train_loss = np.mean(train_loss)\n",
    "        # Store Validation Loss per epoch\n",
    "        history['validation_loss'].append(mean_val_loss)\n",
    "        # Store Training Loss per epoch\n",
    "        history['training_loss'].append(mean_train_loss)\n",
    "\n",
    "        # print('Epoch [%d/%d], Step [%d/%d], Training Loss: %.4f, Validation Loss: %.4f'\n",
    "        #             %(epoch+1, num_epochs, i+1, \n",
    "        #             len(train_loader), mean_train_loss,\n",
    "        #             mean_val_loss))\n",
    "        \n",
    "        # Validation Accuracy\n",
    "        history['validation_accuracy'].append(test_accuracy(model=model, data_loader=test_loader))\n",
    "        # Training Accuracy\n",
    "        history['training_accuracy'].append(test_accuracy(model=model, data_loader=train_loader))\n",
    "\n",
    "        print('Epoch [%d/%d] End, Training Loss: %.4f., Validation Loss: %.4f., Training Accuracy: %.2f %%, Validation Accuracy: %.2f %%'\n",
    "                            %(epoch+1, num_epochs, \n",
    "                            loss.item(), mean_val_loss,\n",
    "                            history['training_accuracy'][epoch],\n",
    "                            history['validation_accuracy'][epoch]))\n",
    "        print('--------------------------------------')\n",
    "    return history"
   ]
  },
  {
   "cell_type": "code",
   "execution_count": 18,
   "metadata": {},
   "outputs": [],
   "source": [
    "def plot_learning_curve(history):\n",
    "    plt.figure(figsize=(12, 6))\n",
    "    \n",
    "    plt.subplot(2, 1, 1)\n",
    "    plt.plot(history['training_loss'], label='training loss')\n",
    "    plt.plot(history['validation_loss'], label='validation loss')\n",
    "    plt.xlabel('Epoch')\n",
    "    plt.ylabel('Loss')\n",
    "    plt.legend()\n",
    "    plt.suptitle('Model: %s, Batch Size: %i, LR: %.4f, Optimizer: %s' %(history['model'], history['batch_size'], history['learning_rate'], history['optimizer']))\n",
    "    plt.title('Loss vs. Epoch')\n",
    "\n",
    "    plt.subplot(2, 1, 2)\n",
    "    plt.plot(history['training_accuracy'], label='training accuracy')\n",
    "    plt.plot(history['validation_accuracy'], label='validation accuracy')\n",
    "    plt.xlabel('Epoch')\n",
    "    plt.ylabel('Accuracy')\n",
    "    plt.legend()\n",
    "    # plt.suptitle('Model: %s, Batch Size: %i, LR: %.4f, Optimizer: %s' %(history['model'], history['batch_size'], history['learning_rate'], history['optimizer']))\n",
    "    plt.title('Accuracy vs. Epoch')\n",
    "\n",
    "    plt.tight_layout()\n",
    "    plt.show()"
   ]
  },
  {
   "cell_type": "code",
   "execution_count": 19,
   "metadata": {},
   "outputs": [],
   "source": [
    "# for x, y in train_loader:\n",
    "#     model.cuda()\n",
    "#     x = Variable(x.float()).cuda()\n",
    "#     outputs = model(x)\n",
    "#     y = Variable(y.float()).cuda()\n",
    "\n",
    "#     _, outputs_m = (torch.max(torch.exp(outputs), 1))\n",
    "#     break"
   ]
  },
  {
   "cell_type": "code",
   "execution_count": 20,
   "metadata": {},
   "outputs": [],
   "source": [
    "# test_dummy = torch.exp(outputs)"
   ]
  },
  {
   "cell_type": "code",
   "execution_count": 21,
   "metadata": {},
   "outputs": [],
   "source": [
    "# dummy2 = torch.max(y, 1)[1]"
   ]
  },
  {
   "cell_type": "code",
   "execution_count": 22,
   "metadata": {},
   "outputs": [],
   "source": [
    "# (outputs_m == dummy2).sum().item()"
   ]
  },
  {
   "cell_type": "code",
   "execution_count": 23,
   "metadata": {},
   "outputs": [],
   "source": [
    "# hx = Variable(x.new_zeros(x.size(0), x.size(1), 32))\n",
    "\n",
    "# hx = (hx, hx)\n",
    "\n",
    "# hx, cx = hx\n",
    "\n",
    "# input_gate, forget_gate, cell_gate, output_gate = hx.chunk(4, 1)"
   ]
  },
  {
   "cell_type": "code",
   "execution_count": 24,
   "metadata": {},
   "outputs": [],
   "source": [
    "# t_dummy1 = torch.randn(16, 32)\n",
    "# t_dummy2 = torch.randn(16, 32)\n",
    "\n",
    "# print(np.shape(t_dummy1 * t_dummy2))\n",
    "# torch.matmul(t_dummy1, t_dummy2).size()"
   ]
  },
  {
   "cell_type": "code",
   "execution_count": 25,
   "metadata": {},
   "outputs": [
    {
     "data": {
      "application/vnd.jupyter.widget-view+json": {
       "model_id": "946013f3463f4246aedd097af73e2041",
       "version_major": 2,
       "version_minor": 0
      },
      "text/plain": [
       "  0%|          | 0/563 [00:00<?, ?batch/s]"
      ]
     },
     "metadata": {},
     "output_type": "display_data"
    },
    {
     "data": {
      "application/vnd.jupyter.widget-view+json": {
       "model_id": "5bc83d1498ac48508b8747dbe5dd036d",
       "version_major": 2,
       "version_minor": 0
      },
      "text/plain": [
       "  0%|          | 0/188 [00:00<?, ?batch/s]"
      ]
     },
     "metadata": {},
     "output_type": "display_data"
    },
    {
     "data": {
      "application/vnd.jupyter.widget-view+json": {
       "model_id": "64714be03e2e48f9a4593320824e54b0",
       "version_major": 2,
       "version_minor": 0
      },
      "text/plain": [
       "  0%|          | 0/188 [00:00<?, ?batch/s]"
      ]
     },
     "metadata": {},
     "output_type": "display_data"
    },
    {
     "data": {
      "application/vnd.jupyter.widget-view+json": {
       "model_id": "f16876c3e19d4d8e8cd271fa92748c92",
       "version_major": 2,
       "version_minor": 0
      },
      "text/plain": [
       "  0%|          | 0/563 [00:00<?, ?batch/s]"
      ]
     },
     "metadata": {},
     "output_type": "display_data"
    },
    {
     "name": "stdout",
     "output_type": "stream",
     "text": [
      "Epoch [1/3] End, Training Loss: 0.6271., Validation Loss: 0.6369., Training Accuracy: 65.47 %, Validation Accuracy: 49.60 %\n",
      "--------------------------------------\n"
     ]
    },
    {
     "data": {
      "application/vnd.jupyter.widget-view+json": {
       "model_id": "479e7a62d1e1493fb4ab6ef8f9636509",
       "version_major": 2,
       "version_minor": 0
      },
      "text/plain": [
       "  0%|          | 0/563 [00:00<?, ?batch/s]"
      ]
     },
     "metadata": {},
     "output_type": "display_data"
    },
    {
     "data": {
      "application/vnd.jupyter.widget-view+json": {
       "model_id": "d867efa067fc46bf8ace02b527b3ecba",
       "version_major": 2,
       "version_minor": 0
      },
      "text/plain": [
       "  0%|          | 0/188 [00:00<?, ?batch/s]"
      ]
     },
     "metadata": {},
     "output_type": "display_data"
    },
    {
     "data": {
      "application/vnd.jupyter.widget-view+json": {
       "model_id": "882ec758bac7446cae67b7d163e96288",
       "version_major": 2,
       "version_minor": 0
      },
      "text/plain": [
       "  0%|          | 0/188 [00:00<?, ?batch/s]"
      ]
     },
     "metadata": {},
     "output_type": "display_data"
    },
    {
     "data": {
      "application/vnd.jupyter.widget-view+json": {
       "model_id": "af042d08ebe441b98b17663165e6be65",
       "version_major": 2,
       "version_minor": 0
      },
      "text/plain": [
       "  0%|          | 0/563 [00:00<?, ?batch/s]"
      ]
     },
     "metadata": {},
     "output_type": "display_data"
    },
    {
     "name": "stdout",
     "output_type": "stream",
     "text": [
      "Epoch [2/3] End, Training Loss: 0.6925., Validation Loss: 0.6148., Training Accuracy: 65.47 %, Validation Accuracy: 49.60 %\n",
      "--------------------------------------\n"
     ]
    },
    {
     "data": {
      "application/vnd.jupyter.widget-view+json": {
       "model_id": "3e2ffe3ba52140f7b1b9a4c63d640b89",
       "version_major": 2,
       "version_minor": 0
      },
      "text/plain": [
       "  0%|          | 0/563 [00:00<?, ?batch/s]"
      ]
     },
     "metadata": {},
     "output_type": "display_data"
    },
    {
     "data": {
      "application/vnd.jupyter.widget-view+json": {
       "model_id": "0910975dbae5427b987a8e973929b967",
       "version_major": 2,
       "version_minor": 0
      },
      "text/plain": [
       "  0%|          | 0/188 [00:00<?, ?batch/s]"
      ]
     },
     "metadata": {},
     "output_type": "display_data"
    },
    {
     "data": {
      "application/vnd.jupyter.widget-view+json": {
       "model_id": "73c0ae2ef9f7444daca962144fd2b453",
       "version_major": 2,
       "version_minor": 0
      },
      "text/plain": [
       "  0%|          | 0/188 [00:00<?, ?batch/s]"
      ]
     },
     "metadata": {},
     "output_type": "display_data"
    },
    {
     "data": {
      "application/vnd.jupyter.widget-view+json": {
       "model_id": "2c09ecb09876475c8e68f617375c2504",
       "version_major": 2,
       "version_minor": 0
      },
      "text/plain": [
       "  0%|          | 0/563 [00:00<?, ?batch/s]"
      ]
     },
     "metadata": {},
     "output_type": "display_data"
    },
    {
     "name": "stdout",
     "output_type": "stream",
     "text": [
      "Epoch [3/3] End, Training Loss: 0.4721., Validation Loss: 0.6098., Training Accuracy: 65.47 %, Validation Accuracy: 49.60 %\n",
      "--------------------------------------\n"
     ]
    }
   ],
   "source": [
    "# Train Network\n",
    "hist = train(model=model, loss_fn=bce, optimizer=optimizer, train_loader=train_loader, test_loader=test_loader, num_epochs=num_epochs, history=hist)"
   ]
  },
  {
   "cell_type": "code",
   "execution_count": 26,
   "metadata": {},
   "outputs": [
    {
     "data": {
      "image/png": "[encoded data removed]",
      "text/plain": [
       "<Figure size 1200x600 with 2 Axes>"
      ]
     },
     "metadata": {},
     "output_type": "display_data"
    }
   ],
   "source": [
    "# Plot Learning Curves\n",
    "plot_learning_curve(hist)"
   ]
  },
  {
   "cell_type": "code",
   "execution_count": 27,
   "metadata": {},
   "outputs": [],
   "source": [
    "lstm_1, test_labels = perform_inferencing(model=model, loader=test_loader)\n",
    "\n",
    "cm = confusion_matrix(test_labels, lstm_1, normalize='all')"
   ]
  },
  {
   "cell_type": "code",
   "execution_count": 28,
   "metadata": {},
   "outputs": [
    {
     "data": {
      "image/png": "[encoded data removed]",
      "text/plain": [
       "<Figure size 500x500 with 2 Axes>"
      ]
     },
     "metadata": {},
     "output_type": "display_data"
    }
   ],
   "source": [
    "class_names = ['non-PVA', 'BSA', 'DTA']\n",
    "disp = ConfusionMatrixDisplay(confusion_matrix=cm, display_labels=class_names)\n",
    "\n",
    "fig, ax = plt.subplots(figsize=(5, 5))\n",
    "disp.plot(include_values=True, xticks_rotation='vertical', ax=ax)\n",
    "plt.tight_layout()\n",
    "plt.show()"
   ]
  },
  {
   "cell_type": "code",
   "execution_count": 29,
   "metadata": {},
   "outputs": [],
   "source": [
    "# Define Parameters\n",
    "num_epochs = 3\n",
    "lr = 0.01\n",
    "hist = copy.deepcopy(history)"
   ]
  },
  {
   "cell_type": "code",
   "execution_count": 30,
   "metadata": {},
   "outputs": [],
   "source": [
    "model = LSTM(input_size=2, hidden_units=32, num_layers=3, bias=0, output_size=3).cuda()\n",
    "# You should modify the learning rate as suits the problem\n",
    "optimizer = SGD(model.parameters(), lr=lr)\n",
    "bce = nn.BCEWithLogitsLoss()\n",
    "\n",
    "hist['model'] = 'LSTM Layer3'\n",
    "hist['batch_size'] = batch_size\n",
    "hist['learning_rate'] = lr\n",
    "hist['optimizer'] = 'BCE'"
   ]
  },
  {
   "cell_type": "code",
   "execution_count": 31,
   "metadata": {},
   "outputs": [
    {
     "data": {
      "application/vnd.jupyter.widget-view+json": {
       "model_id": "1cebe20cf8d94c0b9f68f8e5e654242c",
       "version_major": 2,
       "version_minor": 0
      },
      "text/plain": [
       "  0%|          | 0/563 [00:00<?, ?batch/s]"
      ]
     },
     "metadata": {},
     "output_type": "display_data"
    },
    {
     "data": {
      "application/vnd.jupyter.widget-view+json": {
       "model_id": "255b5ae9e56f438d969f4524033b6411",
       "version_major": 2,
       "version_minor": 0
      },
      "text/plain": [
       "  0%|          | 0/188 [00:00<?, ?batch/s]"
      ]
     },
     "metadata": {},
     "output_type": "display_data"
    },
    {
     "data": {
      "application/vnd.jupyter.widget-view+json": {
       "model_id": "0318c29a3fbc400abc94a48936463bdf",
       "version_major": 2,
       "version_minor": 0
      },
      "text/plain": [
       "  0%|          | 0/188 [00:00<?, ?batch/s]"
      ]
     },
     "metadata": {},
     "output_type": "display_data"
    },
    {
     "data": {
      "application/vnd.jupyter.widget-view+json": {
       "model_id": "7944746a22ef4e1ab99243602ae16422",
       "version_major": 2,
       "version_minor": 0
      },
      "text/plain": [
       "  0%|          | 0/563 [00:00<?, ?batch/s]"
      ]
     },
     "metadata": {},
     "output_type": "display_data"
    },
    {
     "name": "stdout",
     "output_type": "stream",
     "text": [
      "Epoch [1/3] End, Training Loss: 0.6254., Validation Loss: 0.6298., Training Accuracy: 65.47 %, Validation Accuracy: 49.60 %\n",
      "--------------------------------------\n"
     ]
    },
    {
     "data": {
      "application/vnd.jupyter.widget-view+json": {
       "model_id": "e4e5727b2a4d4b9a8523233c2fbc8f35",
       "version_major": 2,
       "version_minor": 0
      },
      "text/plain": [
       "  0%|          | 0/563 [00:00<?, ?batch/s]"
      ]
     },
     "metadata": {},
     "output_type": "display_data"
    },
    {
     "data": {
      "application/vnd.jupyter.widget-view+json": {
       "model_id": "24fdd0b150a2477a9a11292349039d6f",
       "version_major": 2,
       "version_minor": 0
      },
      "text/plain": [
       "  0%|          | 0/188 [00:00<?, ?batch/s]"
      ]
     },
     "metadata": {},
     "output_type": "display_data"
    },
    {
     "data": {
      "application/vnd.jupyter.widget-view+json": {
       "model_id": "69ba5395c80f42e696dde2e24c42b3ce",
       "version_major": 2,
       "version_minor": 0
      },
      "text/plain": [
       "  0%|          | 0/188 [00:00<?, ?batch/s]"
      ]
     },
     "metadata": {},
     "output_type": "display_data"
    },
    {
     "data": {
      "application/vnd.jupyter.widget-view+json": {
       "model_id": "13846a5d7a1e48ca812b75e85b9ee85a",
       "version_major": 2,
       "version_minor": 0
      },
      "text/plain": [
       "  0%|          | 0/563 [00:00<?, ?batch/s]"
      ]
     },
     "metadata": {},
     "output_type": "display_data"
    },
    {
     "name": "stdout",
     "output_type": "stream",
     "text": [
      "Epoch [2/3] End, Training Loss: 0.5179., Validation Loss: 0.6122., Training Accuracy: 65.47 %, Validation Accuracy: 49.60 %\n",
      "--------------------------------------\n"
     ]
    },
    {
     "data": {
      "application/vnd.jupyter.widget-view+json": {
       "model_id": "1b389a2f31ae421abcd609ee72940158",
       "version_major": 2,
       "version_minor": 0
      },
      "text/plain": [
       "  0%|          | 0/563 [00:00<?, ?batch/s]"
      ]
     },
     "metadata": {},
     "output_type": "display_data"
    },
    {
     "data": {
      "application/vnd.jupyter.widget-view+json": {
       "model_id": "ce6e820e4cd4454b8013ba64415c37ed",
       "version_major": 2,
       "version_minor": 0
      },
      "text/plain": [
       "  0%|          | 0/188 [00:00<?, ?batch/s]"
      ]
     },
     "metadata": {},
     "output_type": "display_data"
    },
    {
     "data": {
      "application/vnd.jupyter.widget-view+json": {
       "model_id": "7ace7123a1914fd69bac9ac044d8813f",
       "version_major": 2,
       "version_minor": 0
      },
      "text/plain": [
       "  0%|          | 0/188 [00:00<?, ?batch/s]"
      ]
     },
     "metadata": {},
     "output_type": "display_data"
    },
    {
     "data": {
      "application/vnd.jupyter.widget-view+json": {
       "model_id": "b02dea42e7694f8bbc0fffe42f016ed2",
       "version_major": 2,
       "version_minor": 0
      },
      "text/plain": [
       "  0%|          | 0/563 [00:00<?, ?batch/s]"
      ]
     },
     "metadata": {},
     "output_type": "display_data"
    },
    {
     "name": "stdout",
     "output_type": "stream",
     "text": [
      "Epoch [3/3] End, Training Loss: 0.5202., Validation Loss: 0.6089., Training Accuracy: 65.47 %, Validation Accuracy: 49.60 %\n",
      "--------------------------------------\n"
     ]
    }
   ],
   "source": [
    "# Train Network\n",
    "hist = train(model=model, loss_fn=bce, optimizer=optimizer, train_loader=train_loader, test_loader=test_loader, num_epochs=num_epochs, history=hist)"
   ]
  },
  {
   "cell_type": "code",
   "execution_count": 32,
   "metadata": {},
   "outputs": [
    {
     "data": {
      "image/png": "[encoded data removed]",
      "text/plain": [
       "<Figure size 1200x600 with 2 Axes>"
      ]
     },
     "metadata": {},
     "output_type": "display_data"
    }
   ],
   "source": [
    "# Plot Learning Curves\n",
    "plot_learning_curve(hist)"
   ]
  },
  {
   "cell_type": "code",
   "execution_count": 33,
   "metadata": {},
   "outputs": [],
   "source": [
    "lstm_1, test_labels = perform_inferencing(model=model, loader=test_loader)\n",
    "\n",
    "cm = confusion_matrix(test_labels, lstm_1, normalize='all')"
   ]
  },
  {
   "cell_type": "code",
   "execution_count": 34,
   "metadata": {},
   "outputs": [
    {
     "data": {
      "image/png": "[encoded data removed]",
      "text/plain": [
       "<Figure size 500x500 with 2 Axes>"
      ]
     },
     "metadata": {},
     "output_type": "display_data"
    }
   ],
   "source": [
    "class_names = ['non-PVA', 'BSA', 'DTA']\n",
    "disp = ConfusionMatrixDisplay(confusion_matrix=cm, display_labels=class_names)\n",
    "\n",
    "fig, ax = plt.subplots(figsize=(5, 5))\n",
    "disp.plot(include_values=True, xticks_rotation='vertical', ax=ax)\n",
    "plt.tight_layout()\n",
    "plt.show()"
   ]
  },
  {
   "cell_type": "markdown",
   "metadata": {},
   "source": [
    "## ARDS Detection"
   ]
  },
  {
   "cell_type": "markdown",
   "metadata": {},
   "source": [
    "Regardless of whether you were successful on your last assignment, the design was to show you the internal mechanism about how LSTM works.\n",
    "\n",
    "In this assignment you will utilize a dataset of ventilation data taken from 50 subjects. 25 subjects have ARDS, 25 subjects do not have ARDS. Your job is to extract waveform data, and utilize it to perform inferencing on whether the patient has ARDS or not.\n",
    "\n",
    "1. Use basic CNN architecture to perform classification on whether patient has ARDS or not\n",
    "2. Add LSTM to CNN architecture, do results improve? if not why? In this assignment you should use the [PyTorch LSTM layer.](https://pytorch.org/docs/stable/generated/torch.nn.LSTM.html)"
   ]
  },
  {
   "cell_type": "markdown",
   "metadata": {},
   "source": [
    "### Data\n",
    "\n",
    "The data that we use here is ventilation data but it is structured a bit differently than the PVA dataset. Primarily, the data is structured in continuous breath sequences instead of single breaths. Here is an example.\n",
    "\n",
    "<img src=ards-data.png width=50% height=auto\\>\n",
    "\n",
    "This has a few advantages: \n",
    "\n",
    "1. We don't need padding anymore\n",
    "2. It improves performance of our model\n",
    "\n",
    "We stack 20 of these breaths together into a tensor that is in shape `(20, 1, 224)`. This allows us to analyze sequential breaths with an LSTM if we desire. "
   ]
  },
  {
   "cell_type": "code",
   "execution_count": 3,
   "metadata": {},
   "outputs": [],
   "source": [
    "from pathlib import Path\n",
    "\n",
    "from torch.utils.data import DataLoader\n",
    "\n",
    "from dataset import ARDSDataset\n",
    "\n",
    "batch_size = 32\n",
    "num_workers = 4\n",
    "\n",
    "def get_dataset(path, name):\n",
    "    saved_set = Path(path)\n",
    "    # Make sure we save previously processed data. This speeds up future processes.\n",
    "    if saved_set.exists():\n",
    "        dataset = ARDSDataset.from_pickle(saved_set.resolve())\n",
    "    else:\n",
    "        dataset = ARDSDataset(224, name, to_pickle=saved_set.resolve())\n",
    "    return dataset\n",
    "        \n",
    "        \n",
    "def get_all_datasets():\n",
    "    training_set = get_dataset('ards_training_set.pkl', 'train')\n",
    "    validation_set = get_dataset('ards_validation_set.pkl', 'val')\n",
    "    testing_set = get_dataset('ards_testing_set.pkl', 'test')\n",
    "    return training_set, validation_set, testing_set\n",
    "\n",
    "\n",
    "training_set, validation_set, testing_set = get_all_datasets()\n",
    "train_loader = DataLoader(training_set, batch_size=batch_size, shuffle=True, pin_memory=True, num_workers=num_workers, persistent_workers=True)\n",
    "val_loader = DataLoader(validation_set, batch_size=batch_size, shuffle=False, pin_memory=True)\n",
    "test_loader = DataLoader(testing_set, batch_size=batch_size, shuffle=False, pin_memory=True)"
   ]
  },
  {
   "cell_type": "code",
   "execution_count": 4,
   "metadata": {},
   "outputs": [
    {
     "name": "stdout",
     "output_type": "stream",
     "text": [
      "torch.Size([32, 20, 1, 224])\n",
      "torch.Size([32, 2])\n",
      "torch.Size([32, 20, 1, 224])\n",
      "torch.Size([32, 2])\n",
      "torch.Size([32, 20, 1, 224])\n",
      "torch.Size([32, 2])\n",
      "torch.Size([32, 20, 1, 224])\n",
      "torch.Size([32, 2])\n"
     ]
    },
    {
     "data": {
      "image/png": "[encoded data removed]",
      "text/plain": [
       "<Figure size 640x480 with 1 Axes>"
      ]
     },
     "metadata": {},
     "output_type": "display_data"
    }
   ],
   "source": [
    "for i, set in enumerate(train_loader):\n",
    "    pts = set[0]\n",
    "    data = set[1]\n",
    "    label = set[2]\n",
    "    print(np.shape(data))\n",
    "    print(np.shape(label))\n",
    "\n",
    "    if i == 3:\n",
    "        break\n",
    "\n",
    "plt.plot(data[0, 0, 0, :], label='flow')\n",
    "plt.legend()\n",
    "plt.show()"
   ]
  },
  {
   "cell_type": "code",
   "execution_count": 5,
   "metadata": {},
   "outputs": [],
   "source": [
    "history = {\n",
    "    'model': str,\n",
    "    'batch_size': int,\n",
    "    'learning_rate': float,\n",
    "    'optimizer': str,\n",
    "    'training_loss': [],\n",
    "    'validation_loss': [],\n",
    "    'training_accuracy': [],\n",
    "    'validation_accuracy': []\n",
    "}"
   ]
  },
  {
   "cell_type": "code",
   "execution_count": 6,
   "metadata": {},
   "outputs": [],
   "source": [
    "from cnn_lstm_net import CNNLSTMNetwork\n",
    "from densenet import densenet18"
   ]
  },
  {
   "cell_type": "code",
   "execution_count": 7,
   "metadata": {},
   "outputs": [],
   "source": [
    "def perform_inferencing(model, loader):\n",
    "    model.cuda()\n",
    "\n",
    "    predictions = []\n",
    "    test_labels = []\n",
    "\n",
    "    model.eval()\n",
    "\n",
    "    with torch.no_grad():\n",
    "        for pt, x, y in loader:\n",
    "\n",
    "            # Load images/labels onto GPU\n",
    "            x = Variable(x.float()).cuda()\n",
    "            y = Variable(y.float()).cuda()\n",
    "\n",
    "            labels = torch.max(y, 1)[1].cpu().numpy()\n",
    "\n",
    "            output = model(x.float())\n",
    "            predicted = (torch.max(torch.exp(output), 1))[1].cpu().numpy()\n",
    "            predictions.extend(predicted)\n",
    "\n",
    "            test_labels.extend(labels)\n",
    "\n",
    "    return predictions, test_labels"
   ]
  },
  {
   "cell_type": "code",
   "execution_count": 8,
   "metadata": {},
   "outputs": [],
   "source": [
    "def validation(model, test_loader, loss_fn):\n",
    "    model.cuda()\n",
    "    loss_per_bacth = []\n",
    "\n",
    "    # Put model into evaluation Mode\n",
    "    model.eval()\n",
    "\n",
    "    with torch.no_grad():\n",
    "        with tqdm(enumerate(test_loader), unit=\"batch\", total=len(test_loader)) as tbatches:\n",
    "            for i, data in tbatches:\n",
    "                tbatches.set_description(f\"Testing Against Validation:\")\n",
    "                # Load Flow and Pressure Data\n",
    "                x = data[1]\n",
    "                # Load Labels\n",
    "                y = data[2]\n",
    "                \n",
    "                # Load images/labels onto GPU\n",
    "                x = Variable(x.float()).cuda()\n",
    "                y = Variable(y.float()).cuda()\n",
    "\n",
    "                outputs = model(x)\n",
    "                loss = loss_fn(outputs, y)\n",
    "                loss_per_bacth.append(loss.item())\n",
    "\n",
    "    return loss_per_bacth"
   ]
  },
  {
   "cell_type": "code",
   "execution_count": 9,
   "metadata": {},
   "outputs": [],
   "source": [
    "def test_accuracy(model, data_loader):\n",
    "    model.cuda()\n",
    "    correct = 0\n",
    "    total = 0\n",
    "    accuracy = 0\n",
    "\n",
    "    # Put model into evaluation Mode\n",
    "    model.eval()\n",
    "\n",
    "    with torch.no_grad():\n",
    "        with tqdm(enumerate(data_loader), unit=\"batch\", total=len(data_loader)) as tbatches:\n",
    "            for i, data in tbatches:\n",
    "                tbatches.set_description(f\"Testing Accuracy:\")\n",
    "                # Load Flow and Pressure Data\n",
    "                x = data[1]\n",
    "                # Load Labels\n",
    "                y = data[2]\n",
    "\n",
    "                # Load images/labels onto GPU\n",
    "                x = Variable(x.float()).cuda()\n",
    "                y = Variable(y.float()).cuda()\n",
    "\n",
    "                labels = torch.max(y, 1)[1]\n",
    "                \n",
    "                outputs = model(x)\n",
    "                _, predicted = torch.max(torch.exp(outputs), 1)\n",
    "                total += y.size(0)\n",
    "                correct += (predicted == labels).sum().item()\n",
    "            accuracy = (100 * correct / total)\n",
    "\n",
    "    return accuracy"
   ]
  },
  {
   "cell_type": "code",
   "execution_count": 10,
   "metadata": {},
   "outputs": [],
   "source": [
    "def train(model, loss_fn, optimizer, train_loader, test_loader, num_epochs, history):\n",
    "\n",
    "    model.cuda()\n",
    "\n",
    "    # Iterate through all Epochs\n",
    "    for epoch in range(num_epochs):\n",
    "        # Init train loss\n",
    "        train_loss = []\n",
    "\n",
    "        # Set model to train at the start of every epoch\n",
    "        model.train()\n",
    "        with tqdm(enumerate(train_loader), unit=\"batch\", total=len(train_loader)) as tepoch:\n",
    "            # Iterate through training dataset\n",
    "            for i, data in tepoch:\n",
    "                tepoch.set_description(f\"Epoch {epoch + 1}\")\n",
    "\n",
    "                # Load Flow and Pressure Data\n",
    "                x = data[1]\n",
    "                # Load Labels\n",
    "                y = data[2]\n",
    "\n",
    "                # Load images/labels onto GPU\n",
    "                x = Variable(x.float()).cuda()\n",
    "                y = Variable(y).cuda()\n",
    "\n",
    "                # print(np.shape(x))\n",
    "                # print(np.shape(y))\n",
    "\n",
    "                # Zero collected gradients at each step\n",
    "                optimizer.zero_grad()\n",
    "                # Forward Propagate\n",
    "                outputs = model(x)\n",
    "\n",
    "                # Calculate Loss\n",
    "                loss = loss_fn(outputs, y)\n",
    "                # Store Loss\n",
    "                train_loss.append(loss.item())\n",
    "                # Back propagate\n",
    "                loss.backward()\n",
    "                # Update weights\n",
    "                optimizer.step()\n",
    "\n",
    "                # tepoch.set_postfix(training_loss=loss.item())\n",
    "\n",
    "        # Print statistics on every epoch\n",
    "        # Calculate validation loss for this epoch\n",
    "        validation_loss = validation(model=model, test_loader=test_loader, loss_fn=loss_fn)\n",
    "        # Calculate mean of validation loss\n",
    "        mean_val_loss = np.mean(validation_loss)\n",
    "        # Calculate mean of training loss\n",
    "        mean_train_loss = np.mean(train_loss)\n",
    "        # Store Validation Loss per epoch\n",
    "        history['validation_loss'].append(mean_val_loss)\n",
    "        # Store Training Loss per epoch\n",
    "        history['training_loss'].append(mean_train_loss)\n",
    "\n",
    "        # print('Epoch [%d/%d], Step [%d/%d], Training Loss: %.4f, Validation Loss: %.4f'\n",
    "        #             %(epoch+1, num_epochs, i+1, \n",
    "        #             len(train_loader), mean_train_loss,\n",
    "        #             mean_val_loss))\n",
    "        \n",
    "        # Validation Accuracy\n",
    "        history['validation_accuracy'].append(test_accuracy(model=model, data_loader=test_loader))\n",
    "        # Training Accuracy\n",
    "        history['training_accuracy'].append(test_accuracy(model=model, data_loader=train_loader))\n",
    "\n",
    "        print('Epoch [%d/%d] End, Training Loss: %.4f., Validation Loss: %.4f., Training Accuracy: %.2f %%, Validation Accuracy: %.2f %%'\n",
    "                            %(epoch+1, num_epochs, \n",
    "                            loss.item(), mean_val_loss,\n",
    "                            history['training_accuracy'][epoch],\n",
    "                            history['validation_accuracy'][epoch]))\n",
    "        print('--------------------------------------')\n",
    "    return history"
   ]
  },
  {
   "cell_type": "code",
   "execution_count": 15,
   "metadata": {},
   "outputs": [],
   "source": [
    "def plot_learning_curve(history):\n",
    "    plt.figure(figsize=(12, 6))\n",
    "    \n",
    "    plt.subplot(2, 1, 1)\n",
    "    plt.plot(history['training_loss'], label='training loss')\n",
    "    plt.plot(history['validation_loss'], label='validation loss')\n",
    "    plt.xlabel('Epoch')\n",
    "    plt.ylabel('Loss')\n",
    "    plt.legend()\n",
    "    plt.suptitle('Model: %s, Batch Size: %i, LR: %.4f, Optimizer: %s' %(history['model'], history['batch_size'], history['learning_rate'], history['optimizer']))\n",
    "    plt.title('Loss vs. Epoch')\n",
    "\n",
    "    plt.subplot(2, 1, 2)\n",
    "    plt.plot(history['training_accuracy'], label='training accuracy')\n",
    "    plt.plot(history['validation_accuracy'], label='validation accuracy')\n",
    "    plt.xlabel('Epoch')\n",
    "    plt.ylabel('Accuracy')\n",
    "    plt.legend()\n",
    "    # plt.suptitle('Model: %s, Batch Size: %i, LR: %.4f, Optimizer: %s' %(history['model'], history['batch_size'], history['learning_rate'], history['optimizer']))\n",
    "    plt.title('Accuracy vs. Epoch')\n",
    "\n",
    "    plt.tight_layout()\n",
    "    plt.show()"
   ]
  },
  {
   "cell_type": "markdown",
   "metadata": {},
   "source": [
    "### CNN"
   ]
  },
  {
   "cell_type": "code",
   "execution_count": 11,
   "metadata": {},
   "outputs": [],
   "source": [
    "class CNNNetwork(nn.Module):\n",
    "    def __init__(self, cnn_network, num_classes):\n",
    "        super(CNNNetwork, self).__init__()\n",
    "        \n",
    "        self.cnn = cnn_network\n",
    "        self.output_size = num_classes\n",
    "        self.input_size = 128 # input_size derived from size of cnn `outputs`\n",
    "    \n",
    "        self.fc = nn.Linear(self.input_size, self.output_size)\n",
    "\n",
    "    def forward(self, x):\n",
    "        batch_size = x.shape[0]\n",
    "        \n",
    "        # input should be in shape: (batches, breaths in seq, chans, 224)\n",
    "        batches = batch_size\n",
    "        outputs = self.cnn(x[0]).squeeze()\n",
    "        outputs = outputs.unsqueeze(dim=0)\n",
    "\n",
    "        \n",
    "        for i in range(1, batches):\n",
    "            block_out = self.cnn(x[i]).squeeze()\n",
    "            block_out = block_out.unsqueeze(dim=0)\n",
    "            outputs = torch.cat([outputs, block_out], dim=0)\n",
    "\n",
    "        output = self.fc(outputs)\n",
    "\n",
    "        output = torch.sum(output, 1) / output.size(1)\n",
    "\n",
    "        return output"
   ]
  },
  {
   "cell_type": "code",
   "execution_count": 12,
   "metadata": {},
   "outputs": [],
   "source": [
    "# You are welcome to evaluate other CNN backbones\n",
    "cnn = densenet18()\n",
    "\n",
    "# feel free to modify these parameters\n",
    "num_classes = 2\n",
    "\n",
    "model = CNNNetwork(cnn, num_classes)\n",
    "\n",
    "lr  = 0.001\n",
    "num_epochs = 3\n",
    "\n",
    "# We highly recommend using SGD for this problem\n",
    "optimizer = SGD(model.parameters(), lr=lr, momentum=0.9, weight_decay=0.0001)\n",
    "bce = nn.BCEWithLogitsLoss()"
   ]
  },
  {
   "cell_type": "code",
   "execution_count": 13,
   "metadata": {},
   "outputs": [],
   "source": [
    "hist = copy.deepcopy(history)\n",
    "hist['model'] = 'CNN'\n",
    "hist['batch_size'] = batch_size\n",
    "hist['learning_rate'] = lr\n",
    "hist['optimizer'] = 'BCE'"
   ]
  },
  {
   "cell_type": "code",
   "execution_count": 14,
   "metadata": {},
   "outputs": [
    {
     "data": {
      "application/vnd.jupyter.widget-view+json": {
       "model_id": "c8a2693aaea641618c1666d3aec7a95e",
       "version_major": 2,
       "version_minor": 0
      },
      "text/plain": [
       "  0%|          | 0/469 [00:00<?, ?batch/s]"
      ]
     },
     "metadata": {},
     "output_type": "display_data"
    },
    {
     "data": {
      "application/vnd.jupyter.widget-view+json": {
       "model_id": "d61f620dcece4c2b823b376425d50f0f",
       "version_major": 2,
       "version_minor": 0
      },
      "text/plain": [
       "  0%|          | 0/183 [00:00<?, ?batch/s]"
      ]
     },
     "metadata": {},
     "output_type": "display_data"
    },
    {
     "data": {
      "application/vnd.jupyter.widget-view+json": {
       "model_id": "e7c02d3c4b7245c2836c5621e6aebfc1",
       "version_major": 2,
       "version_minor": 0
      },
      "text/plain": [
       "  0%|          | 0/183 [00:00<?, ?batch/s]"
      ]
     },
     "metadata": {},
     "output_type": "display_data"
    },
    {
     "data": {
      "application/vnd.jupyter.widget-view+json": {
       "model_id": "bd4a03c407174574afba467c96261c77",
       "version_major": 2,
       "version_minor": 0
      },
      "text/plain": [
       "  0%|          | 0/469 [00:00<?, ?batch/s]"
      ]
     },
     "metadata": {},
     "output_type": "display_data"
    },
    {
     "name": "stdout",
     "output_type": "stream",
     "text": [
      "Epoch [1/3] End, Training Loss: 0.6876., Validation Loss: 0.6848., Training Accuracy: 54.13 %, Validation Accuracy: 58.36 %\n",
      "--------------------------------------\n"
     ]
    },
    {
     "data": {
      "application/vnd.jupyter.widget-view+json": {
       "model_id": "84ed2b66a4b941ad9ea0a6e9d47fc401",
       "version_major": 2,
       "version_minor": 0
      },
      "text/plain": [
       "  0%|          | 0/469 [00:00<?, ?batch/s]"
      ]
     },
     "metadata": {},
     "output_type": "display_data"
    },
    {
     "data": {
      "application/vnd.jupyter.widget-view+json": {
       "model_id": "c26cfced8a8f40c0864ae4b5a9a0eef7",
       "version_major": 2,
       "version_minor": 0
      },
      "text/plain": [
       "  0%|          | 0/183 [00:00<?, ?batch/s]"
      ]
     },
     "metadata": {},
     "output_type": "display_data"
    },
    {
     "data": {
      "application/vnd.jupyter.widget-view+json": {
       "model_id": "8ac28bdab19d4be0a1fbcbd8f4bedead",
       "version_major": 2,
       "version_minor": 0
      },
      "text/plain": [
       "  0%|          | 0/183 [00:00<?, ?batch/s]"
      ]
     },
     "metadata": {},
     "output_type": "display_data"
    },
    {
     "data": {
      "application/vnd.jupyter.widget-view+json": {
       "model_id": "aa5cf8e2d9bc42b98ba88082cb2b7e4f",
       "version_major": 2,
       "version_minor": 0
      },
      "text/plain": [
       "  0%|          | 0/469 [00:00<?, ?batch/s]"
      ]
     },
     "metadata": {},
     "output_type": "display_data"
    },
    {
     "name": "stdout",
     "output_type": "stream",
     "text": [
      "Epoch [2/3] End, Training Loss: 0.6483., Validation Loss: 0.6991., Training Accuracy: 54.13 %, Validation Accuracy: 58.36 %\n",
      "--------------------------------------\n"
     ]
    },
    {
     "data": {
      "application/vnd.jupyter.widget-view+json": {
       "model_id": "6bdb0255f9d44b3899cc81a9d9e43cbf",
       "version_major": 2,
       "version_minor": 0
      },
      "text/plain": [
       "  0%|          | 0/469 [00:00<?, ?batch/s]"
      ]
     },
     "metadata": {},
     "output_type": "display_data"
    },
    {
     "data": {
      "application/vnd.jupyter.widget-view+json": {
       "model_id": "79bf4a7034f64a6e9ace8167008c58cd",
       "version_major": 2,
       "version_minor": 0
      },
      "text/plain": [
       "  0%|          | 0/183 [00:00<?, ?batch/s]"
      ]
     },
     "metadata": {},
     "output_type": "display_data"
    },
    {
     "data": {
      "application/vnd.jupyter.widget-view+json": {
       "model_id": "c4f661738bc04d7781785838f4c7587c",
       "version_major": 2,
       "version_minor": 0
      },
      "text/plain": [
       "  0%|          | 0/183 [00:00<?, ?batch/s]"
      ]
     },
     "metadata": {},
     "output_type": "display_data"
    },
    {
     "data": {
      "application/vnd.jupyter.widget-view+json": {
       "model_id": "70978b6a1c704851846f9f9e4cb30014",
       "version_major": 2,
       "version_minor": 0
      },
      "text/plain": [
       "  0%|          | 0/469 [00:00<?, ?batch/s]"
      ]
     },
     "metadata": {},
     "output_type": "display_data"
    },
    {
     "name": "stdout",
     "output_type": "stream",
     "text": [
      "Epoch [3/3] End, Training Loss: 0.6830., Validation Loss: 0.6878., Training Accuracy: 54.12 %, Validation Accuracy: 58.36 %\n",
      "--------------------------------------\n"
     ]
    }
   ],
   "source": [
    "# Train Network\n",
    "hist = train(model=model, loss_fn=bce, optimizer=optimizer, train_loader=train_loader, test_loader=test_loader, num_epochs=num_epochs, history=hist)"
   ]
  },
  {
   "cell_type": "code",
   "execution_count": 16,
   "metadata": {},
   "outputs": [
    {
     "data": {
      "image/png": "[encoded data removed]",
      "text/plain": [
       "<Figure size 1200x600 with 2 Axes>"
      ]
     },
     "metadata": {},
     "output_type": "display_data"
    }
   ],
   "source": [
    "# Plot Learning Curves\n",
    "plot_learning_curve(hist)"
   ]
  },
  {
   "cell_type": "markdown",
   "metadata": {},
   "source": [
    "### LSTM + CNN"
   ]
  },
  {
   "cell_type": "code",
   "execution_count": 5,
   "metadata": {},
   "outputs": [],
   "source": [
    "# You are welcome to evaluate other CNN backbones\n",
    "cnn = densenet18()\n",
    "\n",
    "# feel free to modify these parameters\n",
    "lstm_hidden_units = 128\n",
    "lstm_layers = 1\n",
    "\n",
    "# 0 means there is 0% probability of dropout happening\n",
    "lstm_dropout = 0\n",
    "\n",
    "model = CNNLSTMNetwork(cnn, lstm_hidden_units, lstm_layers, lstm_dropout)\n",
    "\n",
    "lr  = 0.001\n",
    "num_epochs = 3\n",
    "\n",
    "# We highly recommend using SGD for this problem\n",
    "optimizer = SGD(model.parameters(), lr=lr, momentum=0.9, weight_decay=0.0001)\n",
    "bce = nn.BCEWithLogitsLoss()"
   ]
  },
  {
   "cell_type": "code",
   "execution_count": 7,
   "metadata": {},
   "outputs": [],
   "source": [
    "hist = copy.deepcopy(history)\n",
    "hist['model'] = 'LSTM + CNN'\n",
    "hist['batch_size'] = batch_size\n",
    "hist['learning_rate'] = lr\n",
    "hist['optimizer'] = 'BCE'"
   ]
  },
  {
   "cell_type": "code",
   "execution_count": 12,
   "metadata": {},
   "outputs": [
    {
     "data": {
      "application/vnd.jupyter.widget-view+json": {
       "model_id": "2c807e69c2bc4a60a65805fe9ec97702",
       "version_major": 2,
       "version_minor": 0
      },
      "text/plain": [
       "  0%|          | 0/469 [00:00<?, ?batch/s]"
      ]
     },
     "metadata": {},
     "output_type": "display_data"
    },
    {
     "data": {
      "application/vnd.jupyter.widget-view+json": {
       "model_id": "ea0becab3e494ebfa5036b1fdfbc9061",
       "version_major": 2,
       "version_minor": 0
      },
      "text/plain": [
       "  0%|          | 0/183 [00:00<?, ?batch/s]"
      ]
     },
     "metadata": {},
     "output_type": "display_data"
    },
    {
     "data": {
      "application/vnd.jupyter.widget-view+json": {
       "model_id": "d089d19419e1433bbdff1acc32f58aa6",
       "version_major": 2,
       "version_minor": 0
      },
      "text/plain": [
       "  0%|          | 0/183 [00:00<?, ?batch/s]"
      ]
     },
     "metadata": {},
     "output_type": "display_data"
    },
    {
     "data": {
      "application/vnd.jupyter.widget-view+json": {
       "model_id": "16200a2eb3c54eacac94efb0dc9ff916",
       "version_major": 2,
       "version_minor": 0
      },
      "text/plain": [
       "  0%|          | 0/469 [00:00<?, ?batch/s]"
      ]
     },
     "metadata": {},
     "output_type": "display_data"
    },
    {
     "name": "stdout",
     "output_type": "stream",
     "text": [
      "Epoch [1/3] End, Training Loss: 0.6779., Validation Loss: 0.6825., Training Accuracy: 54.13 %, Validation Accuracy: 58.36 %\n",
      "--------------------------------------\n"
     ]
    },
    {
     "data": {
      "application/vnd.jupyter.widget-view+json": {
       "model_id": "d265d5839fd340e7ac41f18ff9bd4555",
       "version_major": 2,
       "version_minor": 0
      },
      "text/plain": [
       "  0%|          | 0/469 [00:00<?, ?batch/s]"
      ]
     },
     "metadata": {},
     "output_type": "display_data"
    },
    {
     "data": {
      "application/vnd.jupyter.widget-view+json": {
       "model_id": "3d34f9605d6f434297f4fd715612f28a",
       "version_major": 2,
       "version_minor": 0
      },
      "text/plain": [
       "  0%|          | 0/183 [00:00<?, ?batch/s]"
      ]
     },
     "metadata": {},
     "output_type": "display_data"
    },
    {
     "data": {
      "application/vnd.jupyter.widget-view+json": {
       "model_id": "c28c9c45bc614fff994caed301276420",
       "version_major": 2,
       "version_minor": 0
      },
      "text/plain": [
       "  0%|          | 0/183 [00:00<?, ?batch/s]"
      ]
     },
     "metadata": {},
     "output_type": "display_data"
    },
    {
     "data": {
      "application/vnd.jupyter.widget-view+json": {
       "model_id": "64149b3879424286a577b7f1939ca1e9",
       "version_major": 2,
       "version_minor": 0
      },
      "text/plain": [
       "  0%|          | 0/469 [00:00<?, ?batch/s]"
      ]
     },
     "metadata": {},
     "output_type": "display_data"
    },
    {
     "name": "stdout",
     "output_type": "stream",
     "text": [
      "Epoch [2/3] End, Training Loss: 0.6843., Validation Loss: 0.6800., Training Accuracy: 54.13 %, Validation Accuracy: 58.36 %\n",
      "--------------------------------------\n"
     ]
    },
    {
     "data": {
      "application/vnd.jupyter.widget-view+json": {
       "model_id": "5fa43e57f2f540b1a826f140aa55df28",
       "version_major": 2,
       "version_minor": 0
      },
      "text/plain": [
       "  0%|          | 0/469 [00:00<?, ?batch/s]"
      ]
     },
     "metadata": {},
     "output_type": "display_data"
    },
    {
     "data": {
      "application/vnd.jupyter.widget-view+json": {
       "model_id": "b7ace6738d194e7eb2d3eb143084f531",
       "version_major": 2,
       "version_minor": 0
      },
      "text/plain": [
       "  0%|          | 0/183 [00:00<?, ?batch/s]"
      ]
     },
     "metadata": {},
     "output_type": "display_data"
    },
    {
     "data": {
      "application/vnd.jupyter.widget-view+json": {
       "model_id": "d394b6ef71b74c4dbe2b8bd8be2635ca",
       "version_major": 2,
       "version_minor": 0
      },
      "text/plain": [
       "  0%|          | 0/183 [00:00<?, ?batch/s]"
      ]
     },
     "metadata": {},
     "output_type": "display_data"
    },
    {
     "data": {
      "application/vnd.jupyter.widget-view+json": {
       "model_id": "f8492577cc8b4e53982d508393017651",
       "version_major": 2,
       "version_minor": 0
      },
      "text/plain": [
       "  0%|          | 0/469 [00:00<?, ?batch/s]"
      ]
     },
     "metadata": {},
     "output_type": "display_data"
    },
    {
     "name": "stdout",
     "output_type": "stream",
     "text": [
      "Epoch [3/3] End, Training Loss: 0.7056., Validation Loss: 0.6808., Training Accuracy: 54.13 %, Validation Accuracy: 58.36 %\n",
      "--------------------------------------\n"
     ]
    }
   ],
   "source": [
    "# Train Network\n",
    "hist = train(model=model, loss_fn=bce, optimizer=optimizer, train_loader=train_loader, test_loader=test_loader, num_epochs=num_epochs, history=hist)"
   ]
  },
  {
   "cell_type": "code",
   "execution_count": 13,
   "metadata": {},
   "outputs": [],
   "source": [
    "dummy = torch.randn((32, 20, 1, 128))"
   ]
  },
  {
   "cell_type": "code",
   "execution_count": 14,
   "metadata": {},
   "outputs": [
    {
     "data": {
      "text/plain": [
       "torch.Size([32, 128])"
      ]
     },
     "execution_count": 14,
     "metadata": {},
     "output_type": "execute_result"
    }
   ],
   "source": [
    "torch.zeros((dummy.size(0), 128)).size()"
   ]
  },
  {
   "cell_type": "code",
   "execution_count": 16,
   "metadata": {},
   "outputs": [
    {
     "data": {
      "image/png": "[encoded data removed]",
      "text/plain": [
       "<Figure size 1200x600 with 2 Axes>"
      ]
     },
     "metadata": {},
     "output_type": "display_data"
    }
   ],
   "source": [
    "# Plot Learning Curves\n",
    "plot_learning_curve(hist)"
   ]
  },
  {
   "cell_type": "code",
   "execution_count": 17,
   "metadata": {},
   "outputs": [],
   "source": [
    "total = 0\n",
    "correct = 0\n",
    "accuracy = 0\n",
    "\n",
    "dummy = model(data.float().cuda())\n",
    "dummy2 = torch.argmax(label, dim=1)\n",
    "dummy3 = torch.max(label, 1)[1]\n",
    "_, predicted = torch.max((dummy), 1)\n",
    "total += label.size(0)\n",
    "correct += (predicted == dummy2.cuda()).sum().item()\n",
    "accuracy = (100 * correct / total)"
   ]
  }
 ],
 "metadata": {
  "kernelspec": {
   "display_name": "Python 3",
   "language": "python",
   "name": "python3"
  },
  "language_info": {
   "codemirror_mode": {
    "name": "ipython",
    "version": 3
   },
   "file_extension": ".py",
   "mimetype": "text/x-python",
   "name": "python",
   "nbconvert_exporter": "python",
   "pygments_lexer": "ipython3",
   "version": "3.11.5"
  },
  "latex_envs": {
   "LaTeX_envs_menu_present": true,
   "autoclose": false,
   "autocomplete": true,
   "bibliofile": "biblio.bib",
   "cite_by": "apalike",
   "current_citInitial": 1,
   "eqLabelWithNumbers": true,
   "eqNumInitial": 1,
   "hotkeys": {
    "equation": "Ctrl-E",
    "itemize": "Ctrl-I"
   },
   "labels_anchors": false,
   "latex_user_defs": false,
   "report_style_numbering": false,
   "user_envs_cfg": false
  }
 },
 "nbformat": 4,
 "nbformat_minor": 2
}
