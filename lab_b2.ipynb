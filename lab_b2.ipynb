{
 "cells": [
  {
   "cell_type": "markdown",
   "metadata": {},
   "source": [
    "# EEC 174AY Lab B2 "
   ]
  },
  {
   "cell_type": "code",
   "execution_count": 1,
   "metadata": {},
   "outputs": [
    {
     "data": {
      "text/html": [
       "\n",
       "<style>\n",
       ".text_cell_render p{\n",
       "    font-size: 130%;\n",
       "    line-height: 125%;\n",
       "}\n",
       "</style>\n"
      ],
      "text/plain": [
       "<IPython.core.display.HTML object>"
      ]
     },
     "execution_count": 1,
     "metadata": {},
     "output_type": "execute_result"
    }
   ],
   "source": [
    "from IPython.core.display import HTML\n",
    "HTML(\"\"\"\n",
    "<style>\n",
    ".text_cell_render p{\n",
    "    font-size: 130%;\n",
    "    line-height: 125%;\n",
    "}\n",
    "</style>\n",
    "\"\"\")"
   ]
  },
  {
   "cell_type": "markdown",
   "metadata": {},
   "source": [
    "## Outline"
   ]
  },
  {
   "cell_type": "markdown",
   "metadata": {},
   "source": [
    "This lab will build your skills in utilizing LSTM networks so that you can apply deep learning to time series information\n",
    "\n",
    "1. you will code an LSTM network and apply it to a pre-built codebase. Your focus will be on the ML coding\n",
    "2. You will utilize a partially built code base and then finish it to detect ARDS in waveform data."
   ]
  },
  {
   "cell_type": "markdown",
   "metadata": {},
   "source": [
    "## LSTM Network"
   ]
  },
  {
   "cell_type": "markdown",
   "metadata": {},
   "source": [
    "LSTM is a network that is able to utilize time series information and learn long term patterns to make more accurate predictions than a normal neural network would be able to. We show the general network architecture as an instruction for what you will need to code."
   ]
  },
  {
   "cell_type": "markdown",
   "metadata": {},
   "source": [
    "<img src=\"The_LSTM_cell.png\" width=55% height=auto\\>"
   ]
  },
  {
   "cell_type": "markdown",
   "metadata": {},
   "source": [
    "You will be applying LSTM to the task of patient ventilator asynchrony (PVA) detection. We have supplied a bit of the code you will need. Your jobs will be the following:\n",
    "\n",
    "1. Code the `find_scaling_coefs`, `scale_breath`, and `pad_or_cut_breath` methods in the `PVADataset` class in `dataset.py`.\n",
    "2. Code a simple 1 layer LSTM network based on network schematics given above. You are welcome to use other resource for assistance as well.\n",
    "3. Run your LSTM model on PVA detection. How well does your model perform compared to your original Random Forest classifier? Why are you getting these results?\n",
    "4. Code a more complex 3 layer LSTM network. Do additional layers improve results? Why/Why not?\n",
    "\n",
    "For the math required we would advise you follow the [PyTorch LSTM mathematics](https://pytorch.org/docs/stable/generated/torch.nn.LSTM.html) "
   ]
  },
  {
   "cell_type": "code",
   "execution_count": 2,
   "metadata": {},
   "outputs": [],
   "source": [
    "from pathlib import Path\n",
    "\n",
    "import copy\n",
    "import matplotlib.pyplot as plt\n",
    "import numpy as np\n",
    "\n",
    "import pandas as pd\n",
    "import torch\n",
    "from torch import nn\n",
    "from torch.nn import functional as F\n",
    "from torch.autograd import Variable\n",
    "from torch.optim import SGD\n",
    "from torch.utils.data import DataLoader\n",
    "\n",
    "from sklearn.metrics import confusion_matrix, ConfusionMatrixDisplay\n",
    "\n",
    "from dataset import PVADataset\n",
    "\n",
    "from tqdm.auto import tqdm"
   ]
  },
  {
   "cell_type": "markdown",
   "metadata": {},
   "source": [
    "Adopted from:\n",
    "\n",
    "- https://github.com/georgeyiasemis/Recurrent-Neural-Networks-from-scratch-using-PyTorch/blob/main/LICENSE"
   ]
  },
  {
   "cell_type": "code",
   "execution_count": 3,
   "metadata": {},
   "outputs": [],
   "source": [
    "class LSTMCell(nn.Module):\n",
    "    def __init__(self, input_size, hidden_units, bias=True):\n",
    "        super(LSTMCell, self).__init__()\n",
    "        self.input_size = input_size\n",
    "        self.hidden_units = hidden_units\n",
    "        self.bias = bias\n",
    "\n",
    "        # Create weights fully connected layers for the weights for x and h\n",
    "        self.xh = nn.Linear(input_size, hidden_units * 4, bias=bias)\n",
    "        self.hh = nn.Linear(hidden_units, hidden_units * 4, bias=bias)\n",
    "        self.reset_parameters()\n",
    "\n",
    "    # Normalize Weights\n",
    "    def reset_parameters(self):\n",
    "        std = 1.0 / np.sqrt(self.hidden_units)\n",
    "        for w in self.parameters():\n",
    "            w.data.uniform_(-std, std)\n",
    "\n",
    "    def forward(self, input, hx=None):\n",
    "\n",
    "        # Inputs:\n",
    "        #       input: of shape (batch_size, input_size)\n",
    "        #       hx: of shape (batch_size, hidden_units)\n",
    "        # Outputs:\n",
    "        #       hy: of shape (batch_size, hidden_units)\n",
    "        #       cy: of shape (batch_size, hidden_units)\n",
    "\n",
    "        if hx is None:\n",
    "            hx = Variable(input.new_zeros(input.size(0), self.hidden_units))\n",
    "            hx = (hx, hx)\n",
    "\n",
    "        hx, cx = hx\n",
    "\n",
    "        gates = self.xh(input) + self.hh(hx)\n",
    "\n",
    "        # Get gates (i_t, f_t, g_t, o_t)\n",
    "        i_t, f_t, g_t, o_t = gates.chunk(4, 1)\n",
    "\n",
    "        i_t = torch.sigmoid(i_t)\n",
    "        f_t = torch.sigmoid(f_t)\n",
    "        g_t = torch.tanh(g_t)\n",
    "        o_t = torch.sigmoid(o_t)\n",
    "\n",
    "        forget_gate = (cx * f_t)\n",
    "        input_gate = (i_t * g_t)\n",
    "\n",
    "        cy =  forget_gate + input_gate\n",
    "\n",
    "        output_gate = (o_t * torch.tanh(cy))\n",
    "\n",
    "        hy = output_gate\n",
    "\n",
    "        return (hy, cy)\n"
   ]
  },
  {
   "cell_type": "code",
   "execution_count": 4,
   "metadata": {},
   "outputs": [],
   "source": [
    "class LSTM(nn.Module):\n",
    "    '''\n",
    "        The shape for the input data is (batch_size, seq_length, input_size).\n",
    "        The shape for the output labels is (batch_size, output_size).\n",
    "    '''\n",
    "    def __init__(self, input_size, hidden_units, num_layers, bias, output_size):\n",
    "        \n",
    "        super(LSTM, self).__init__()\n",
    "        self.input_size = input_size\n",
    "        self.hidden_units = hidden_units\n",
    "        self.num_layers = num_layers\n",
    "        self.bias = bias\n",
    "        self.output_size = output_size\n",
    "\n",
    "        self.lstm_cell_list = nn.ModuleList()\n",
    "\n",
    "        self.lstm_cell_list.append(LSTMCell(self.input_size,\n",
    "                                            self.hidden_units,\n",
    "                                            self.bias))\n",
    "        for l in range(1, self.num_layers):\n",
    "            self.lstm_cell_list.append(LSTMCell(self.hidden_units,\n",
    "                                                self.hidden_units,\n",
    "                                                self.bias))\n",
    "\n",
    "        self.fc = nn.Linear(self.hidden_units, self.output_size)\n",
    "\n",
    "    def forward(self, input, hx=None):\n",
    "\n",
    "        # Input of shape (batch_size, seqence length , input_size)\n",
    "        #\n",
    "        # Output of shape (batch_size, output_size)\n",
    "\n",
    "        if hx is None:\n",
    "            if torch.cuda.is_available():\n",
    "                h0 = Variable(torch.zeros(self.num_layers, input.size(0), self.hidden_units).cuda())\n",
    "            else:\n",
    "                h0 = Variable(torch.zeros(self.num_layers, input.size(0), self.hidden_units))\n",
    "        else:\n",
    "             h0 = hx\n",
    "\n",
    "        outs = []\n",
    "\n",
    "        hidden = list()\n",
    "        for layer in range(self.num_layers):\n",
    "            hidden.append((h0[layer, :, :], h0[layer, :, :]))\n",
    "\n",
    "        for t in range(input.size(1)):\n",
    "\n",
    "            for layer in range(self.num_layers):\n",
    "\n",
    "                if layer == 0:\n",
    "                    hidden_l = self.lstm_cell_list[layer](\n",
    "                        input[:, t, :],\n",
    "                        (hidden[layer][0],hidden[layer][1])\n",
    "                        )\n",
    "                else:\n",
    "                    hidden_l = self.lstm_cell_list[layer](\n",
    "                        hidden[layer - 1][0],\n",
    "                        (hidden[layer][0], hidden[layer][1])\n",
    "                        )\n",
    "\n",
    "                hidden[layer] = hidden_l\n",
    "\n",
    "            outs.append(hidden_l[0])\n",
    "\n",
    "        out = outs[-1].squeeze()\n",
    "\n",
    "        out = self.fc(out)\n",
    "\n",
    "        return out"
   ]
  },
  {
   "cell_type": "code",
   "execution_count": 5,
   "metadata": {},
   "outputs": [],
   "source": [
    "class LSTMNetwork(nn.Module):\n",
    "    def __init__(self):\n",
    "        super(LSTMNetwork, self).__init__()\n",
    "        # Feel free to modify this\n",
    "        self.lstm_hidden_units = 32\n",
    "        # First layer is defined for you. Only have 2 input features (flow, pressure)\n",
    "        self.xi = nn.Linear(2, self.lstm_hidden_units)\n",
    "        self.xf = nn.Linear(2, self.lstm_hidden_units)\n",
    "        self.xo = nn.Linear(2, self.lstm_hidden_units)\n",
    "        self.xg = nn.Linear(2, self.lstm_hidden_units)\n",
    "\n",
    "        # \n",
    "        self.hi = nn.Linear(self.lstm_hidden_units, self.lstm_hidden_units)\n",
    "        self.hf = nn.Linear(self.lstm_hidden_units, self.lstm_hidden_units)\n",
    "        self.ho = nn.Linear(self.lstm_hidden_units, self.lstm_hidden_units)\n",
    "        self.hg = nn.Linear(self.lstm_hidden_units, self.lstm_hidden_units)\n",
    "\n",
    "        # Final layer is defined for you too. Have 3 potential output classes (normal, bsa, dta)\n",
    "        self.final_classification = nn.Linear(self.lstm_hidden_units, 3)\n",
    "        \n",
    "    def forward(self, x, hx = None):\n",
    "        if hx is None:\n",
    "            hx = Variable(x.new_zeros(x.size(0), x.size(1), self.lstm_hidden_units))\n",
    "            hx = (hx, hx)\n",
    "\n",
    "        hx, cx = hx\n",
    "\n",
    "        print('cx: ', np.shape(cx))\n",
    "\n",
    "        dummy = self.hi(hx)\n",
    "\n",
    "        print('dummy: ', np.shape(dummy))\n",
    "        \n",
    "        i_t = F.sigmoid(self.xi(x) + dummy)\n",
    "        f_t = F.sigmoid(self.xf(x) + self.hf(hx))\n",
    "        o_t = F.sigmoid(self.xo(x) + self.ho(hx))\n",
    "        g_t = F.tanh(self.xg(x) + self.hg(hx))\n",
    "\n",
    "        print('i_t: ', np.shape(i_t))\n",
    "\n",
    "        cx = torch.matmul(cx, f_t) + torch.matmul(i_t, g_t)\n",
    "\n",
    "        hy = torch.matmul(o_t, F.tanh(cx))\n",
    "\n",
    "        out = self.final_classification(hy)\n",
    "        \n",
    "        return out\n",
    "    "
   ]
  },
  {
   "cell_type": "code",
   "execution_count": 6,
   "metadata": {},
   "outputs": [],
   "source": [
    "def verify_coeffs(training_set, validation_set, testing_set):\n",
    "    print('Verifying cofficients match...')\n",
    "\n",
    "    # Load Flow Coefficients for Validation and Testing\n",
    "    flow_mus = [validation_set.flow_mu, testing_set.flow_mu]\n",
    "    flow_stds = [validation_set.flow_std, testing_set.flow_std]\n",
    "\n",
    "    # Load Pressure Coefficients for Validation and Testing\n",
    "    pressure_mus = [validation_set.pressure_mu, testing_set.pressure_mu]\n",
    "    pressure_stds = [validation_set.pressure_std, testing_set.pressure_std]\n",
    "\n",
    "    # Check if the Validation and Testing Coefficients match Training Coefficients               \n",
    "    for idx in range(len(flow_mus)):\n",
    "        if training_set.flow_mu != flow_mus[idx] or training_set.flow_std != flow_stds[idx] :\n",
    "            raise Exception('Flow coefficients do not match!')\n",
    "        elif training_set.pressure_mu != pressure_mus[idx] or training_set.pressure_std != pressure_stds[idx] :\n",
    "            raise Exception('Pressure coefficients do not match!')\n",
    "            \n",
    "    print('Coefficients match!')"
   ]
  },
  {
   "cell_type": "code",
   "execution_count": 7,
   "metadata": {},
   "outputs": [],
   "source": [
    "history = {\n",
    "    'model': str,\n",
    "    'batch_size': int,\n",
    "    'learning_rate': float,\n",
    "    'optimizer': str,\n",
    "    'training_loss': [],\n",
    "    'validation_loss': [],\n",
    "    'training_accuracy': [],\n",
    "    'validation_accuracy': []\n",
    "}"
   ]
  },
  {
   "cell_type": "code",
   "execution_count": 8,
   "metadata": {},
   "outputs": [],
   "source": [
    "seq_len = 224\n",
    "\n",
    "def get_dataset(path, name):\n",
    "    saved_set = Path(path)\n",
    "    # Make sure we save previously processed data. This speeds up future processes.\n",
    "    if saved_set.exists():\n",
    "        dataset = pd.read_pickle(saved_set.resolve())\n",
    "    else:\n",
    "        # use a sequence length of 224 inputs. If you want to shorten this feel free.\n",
    "        dataset = PVADataset(name, seq_len)\n",
    "        dataset.process_dataset()\n",
    "        pd.to_pickle(dataset, saved_set.resolve())\n",
    "    return dataset"
   ]
  },
  {
   "cell_type": "code",
   "execution_count": 9,
   "metadata": {},
   "outputs": [],
   "source": [
    "def get_all_datasets():\n",
    "    print('Loading Training Data')\n",
    "    training_set = get_dataset('pva_training_set.pkl', 'train')\n",
    "    print('Loading Validation Data')\n",
    "    validation_set = get_dataset('pva_validation_set.pkl', 'val')\n",
    "    print('Loading Testing Data')\n",
    "    testing_set = get_dataset('pva_testing_set.pkl', 'test')\n",
    "    return training_set, validation_set, testing_set"
   ]
  },
  {
   "cell_type": "code",
   "execution_count": 10,
   "metadata": {},
   "outputs": [
    {
     "name": "stdout",
     "output_type": "stream",
     "text": [
      "Loading Training Data\n",
      "flow mean:  0.20990943369781062\n",
      "pressure mean:  13.39013320433954\n",
      "flow std:  26.88177799001307\n",
      "pressure std:  7.9505383762380655\n",
      "Loading Validation Data\n",
      "Loading Testing Data\n",
      "Verifying cofficients match...\n",
      "Coefficients match!\n"
     ]
    }
   ],
   "source": [
    "batch_size = 16\n",
    "\n",
    "training_set, validation_set, testing_set = get_all_datasets()\n",
    "# XXX make sure val and testing share same coefficients as training set!!\n",
    "verify_coeffs(training_set, validation_set, testing_set)\n",
    "\n",
    "train_loader = DataLoader(training_set, batch_size=batch_size, shuffle=True, pin_memory=True)\n",
    "val_loader = DataLoader(validation_set, batch_size=batch_size, shuffle=False, pin_memory=True)\n",
    "test_loader = DataLoader(testing_set, batch_size=batch_size, shuffle=False, pin_memory=True)\n",
    "# You can write up the rest of the code here. We have already given you most of\n",
    "# what you need to run the module yourself."
   ]
  },
  {
   "cell_type": "code",
   "execution_count": 61,
   "metadata": {},
   "outputs": [
    {
     "name": "stdout",
     "output_type": "stream",
     "text": [
      "torch.Size([16, 224, 2])\n",
      "torch.Size([16, 3])\n",
      "torch.Size([16, 224, 2])\n",
      "torch.Size([16, 3])\n",
      "torch.Size([16, 224, 2])\n",
      "torch.Size([16, 3])\n",
      "torch.Size([16, 224, 2])\n",
      "torch.Size([16, 3])\n"
     ]
    },
    {
     "data": {
      "image/png": "[encoded data removed]",
      "text/plain": [
       "<Figure size 640x480 with 1 Axes>"
      ]
     },
     "metadata": {},
     "output_type": "display_data"
    }
   ],
   "source": [
    "for i, set in enumerate(train_loader):\n",
    "    data = set[0]\n",
    "    label = set[1]\n",
    "    print(np.shape(data))\n",
    "    print(np.shape(label))\n",
    "\n",
    "    if i == 3:\n",
    "        break\n",
    "\n",
    "plt.plot(data[0, :, 0], label='flow')\n",
    "plt.plot(data[0, :, 1], label='pressure')\n",
    "plt.legend()\n",
    "plt.show()"
   ]
  },
  {
   "cell_type": "code",
   "execution_count": 12,
   "metadata": {},
   "outputs": [],
   "source": [
    "# Define Parameters\n",
    "num_epochs = 3\n",
    "lr = 0.01\n",
    "hist = copy.deepcopy(history)"
   ]
  },
  {
   "cell_type": "code",
   "execution_count": 13,
   "metadata": {},
   "outputs": [],
   "source": [
    "model = LSTM(input_size=2, hidden_units=32, num_layers=1, bias=0, output_size=3).cuda()\n",
    "# You should modify the learning rate as suits the problem\n",
    "optimizer = SGD(model.parameters(), lr=lr)\n",
    "bce = nn.BCEWithLogitsLoss()\n",
    "\n",
    "hist['model'] = 'LSTMN'\n",
    "hist['batch_size'] = batch_size\n",
    "hist['learning_rate'] = lr\n",
    "hist['optimizer'] = 'BCE'"
   ]
  },
  {
   "cell_type": "code",
   "execution_count": 14,
   "metadata": {},
   "outputs": [],
   "source": [
    "def perform_inferencing(model, loader):\n",
    "    model.cuda()\n",
    "\n",
    "    predictions = []\n",
    "    test_labels = []\n",
    "\n",
    "    model.eval()\n",
    "\n",
    "    with torch.no_grad():\n",
    "        for x, y in loader:\n",
    "\n",
    "            # Load images/labels onto GPU\n",
    "            x = Variable(x.float()).cuda()\n",
    "            y = Variable(y.float()).cuda()\n",
    "\n",
    "            labels = torch.max(y, 1)[1].cpu().numpy()\n",
    "\n",
    "            output = model(x.float())\n",
    "            predicted = (torch.max(torch.exp(output), 1))[1].cpu().numpy()\n",
    "            predictions.extend(predicted)\n",
    "\n",
    "            test_labels.extend(labels)\n",
    "\n",
    "    return predictions, test_labels"
   ]
  },
  {
   "cell_type": "code",
   "execution_count": 15,
   "metadata": {},
   "outputs": [],
   "source": [
    "def validation(model, test_loader, loss_fn):\n",
    "    model.cuda()\n",
    "    loss_per_bacth = []\n",
    "\n",
    "    # Put model into evaluation Mode\n",
    "    model.eval()\n",
    "\n",
    "    with torch.no_grad():\n",
    "        with tqdm(enumerate(test_loader), unit=\"batch\", total=len(test_loader)) as tbatches:\n",
    "            for i, data in tbatches:\n",
    "                tbatches.set_description(f\"Testing Against Validation:\")\n",
    "                # Load Flow and Pressure Data\n",
    "                x = data[0]\n",
    "                # Load Labels\n",
    "                y = data[1]\n",
    "                \n",
    "                # Load images/labels onto GPU\n",
    "                x = Variable(x.float()).cuda()\n",
    "                y = Variable(y.float()).cuda()\n",
    "\n",
    "                outputs = model(x)\n",
    "                loss = loss_fn(outputs, y)\n",
    "                loss_per_bacth.append(loss.item())\n",
    "\n",
    "    return loss_per_bacth"
   ]
  },
  {
   "cell_type": "code",
   "execution_count": 16,
   "metadata": {},
   "outputs": [],
   "source": [
    "def test_accuracy(model, data_loader):\n",
    "    model.cuda()\n",
    "    correct = 0\n",
    "    total = 0\n",
    "    accuracy = 0\n",
    "\n",
    "    # Put model into evaluation Mode\n",
    "    model.eval()\n",
    "\n",
    "    with torch.no_grad():\n",
    "        with tqdm(enumerate(data_loader), unit=\"batch\", total=len(data_loader)) as tbatches:\n",
    "            for i, data in tbatches:\n",
    "                tbatches.set_description(f\"Testing Accuracy:\")\n",
    "                # Load Flow and Pressure Data\n",
    "                x = data[0]\n",
    "                # Load Labels\n",
    "                y = data[1]\n",
    "\n",
    "                # Load images/labels onto GPU\n",
    "                x = Variable(x.float()).cuda()\n",
    "                y = Variable(y.float()).cuda()\n",
    "\n",
    "                labels = torch.max(y, 1)[1]\n",
    "                \n",
    "                outputs = model(x)\n",
    "                _, predicted = torch.max(torch.exp(outputs), 1)\n",
    "                total += y.size(0)\n",
    "                correct += (predicted == labels).sum().item()\n",
    "            accuracy = (100 * correct / total)\n",
    "\n",
    "    return accuracy"
   ]
  },
  {
   "cell_type": "code",
   "execution_count": 17,
   "metadata": {},
   "outputs": [],
   "source": [
    "def train(model, loss_fn, optimizer, train_loader, test_loader, num_epochs, history):\n",
    "\n",
    "    model.cuda()\n",
    "\n",
    "    # Iterate through all Epochs\n",
    "    for epoch in range(num_epochs):\n",
    "        # Init train loss\n",
    "        train_loss = []\n",
    "\n",
    "        # Set model to train at the start of every epoch\n",
    "        model.train()\n",
    "        with tqdm(enumerate(train_loader), unit=\"batch\", total=len(train_loader)) as tepoch:\n",
    "            # Iterate through training dataset\n",
    "            for i, data in tepoch:\n",
    "                tepoch.set_description(f\"Epoch {epoch + 1}\")\n",
    "\n",
    "                # Load Flow and Pressure Data\n",
    "                x = data[0]\n",
    "                # Load Labels\n",
    "                y = data[1]\n",
    "\n",
    "                # Load images/labels onto GPU\n",
    "                x = Variable(x.float()).cuda()\n",
    "                y = Variable(y.float()).cuda()\n",
    "\n",
    "                # print(np.shape(x))\n",
    "                # print(np.shape(y))\n",
    "\n",
    "                # Zero collected gradients at each step\n",
    "                optimizer.zero_grad()\n",
    "                # Forward Propagate\n",
    "                outputs = model(x)\n",
    "                # Calculate Loss\n",
    "                loss = loss_fn(outputs, y)\n",
    "                # Store Loss\n",
    "                train_loss.append(loss.item())\n",
    "                # Back propagate\n",
    "                loss.backward()\n",
    "                # Update weights\n",
    "                optimizer.step()\n",
    "\n",
    "                # tepoch.set_postfix(training_loss=loss.item())\n",
    "\n",
    "        # Print statistics on every epoch\n",
    "        # Calculate validation loss for this epoch\n",
    "        validation_loss = validation(model=model, test_loader=test_loader, loss_fn=loss_fn)\n",
    "        # Calculate mean of validation loss\n",
    "        mean_val_loss = np.mean(validation_loss)\n",
    "        # Calculate mean of training loss\n",
    "        mean_train_loss = np.mean(train_loss)\n",
    "        # Store Validation Loss per epoch\n",
    "        history['validation_loss'].append(mean_val_loss)\n",
    "        # Store Training Loss per epoch\n",
    "        history['training_loss'].append(mean_train_loss)\n",
    "\n",
    "        # print('Epoch [%d/%d], Step [%d/%d], Training Loss: %.4f, Validation Loss: %.4f'\n",
    "        #             %(epoch+1, num_epochs, i+1, \n",
    "        #             len(train_loader), mean_train_loss,\n",
    "        #             mean_val_loss))\n",
    "        \n",
    "        # Validation Accuracy\n",
    "        history['validation_accuracy'].append(test_accuracy(model=model, data_loader=test_loader))\n",
    "        # Training Accuracy\n",
    "        history['training_accuracy'].append(test_accuracy(model=model, data_loader=train_loader))\n",
    "\n",
    "        print('Epoch [%d/%d] End, Training Loss: %.4f., Validation Loss: %.4f., Training Accuracy: %.2f %%, Validation Accuracy: %.2f %%'\n",
    "                            %(epoch+1, num_epochs, \n",
    "                            loss.item(), mean_val_loss,\n",
    "                            history['training_accuracy'][epoch],\n",
    "                            history['validation_accuracy'][epoch]))\n",
    "        print('--------------------------------------')\n",
    "    return history"
   ]
  },
  {
   "cell_type": "code",
   "execution_count": 18,
   "metadata": {},
   "outputs": [],
   "source": [
    "def plot_learning_curve(history):\n",
    "    plt.figure(figsize=(12, 6))\n",
    "    \n",
    "    plt.subplot(2, 1, 1)\n",
    "    plt.plot(history['training_loss'], label='training loss')\n",
    "    plt.plot(history['validation_loss'], label='validation loss')\n",
    "    plt.xlabel('Epoch')\n",
    "    plt.ylabel('Loss')\n",
    "    plt.legend()\n",
    "    plt.suptitle('Model: %s, Batch Size: %i, LR: %.4f, Optimizer: %s' %(history['model'], history['batch_size'], history['learning_rate'], history['optimizer']))\n",
    "    plt.title('Loss vs. Epoch')\n",
    "\n",
    "    plt.subplot(2, 1, 2)\n",
    "    plt.plot(history['training_accuracy'], label='training accuracy')\n",
    "    plt.plot(history['validation_accuracy'], label='validation accuracy')\n",
    "    plt.xlabel('Epoch')\n",
    "    plt.ylabel('Accuracy')\n",
    "    plt.legend()\n",
    "    # plt.suptitle('Model: %s, Batch Size: %i, LR: %.4f, Optimizer: %s' %(history['model'], history['batch_size'], history['learning_rate'], history['optimizer']))\n",
    "    plt.title('Accuracy vs. Epoch')\n",
    "\n",
    "    plt.tight_layout()\n",
    "    plt.show()"
   ]
  },
  {
   "cell_type": "code",
   "execution_count": 19,
   "metadata": {},
   "outputs": [],
   "source": [
    "# for x, y in train_loader:\n",
    "#     model.cuda()\n",
    "#     x = Variable(x.float()).cuda()\n",
    "#     outputs = model(x)\n",
    "#     y = Variable(y.float()).cuda()\n",
    "\n",
    "#     _, outputs_m = (torch.max(torch.exp(outputs), 1))\n",
    "#     break"
   ]
  },
  {
   "cell_type": "code",
   "execution_count": 20,
   "metadata": {},
   "outputs": [],
   "source": [
    "# test_dummy = torch.exp(outputs)"
   ]
  },
  {
   "cell_type": "code",
   "execution_count": 21,
   "metadata": {},
   "outputs": [],
   "source": [
    "# dummy2 = torch.max(y, 1)[1]"
   ]
  },
  {
   "cell_type": "code",
   "execution_count": 22,
   "metadata": {},
   "outputs": [],
   "source": [
    "# (outputs_m == dummy2).sum().item()"
   ]
  },
  {
   "cell_type": "code",
   "execution_count": 23,
   "metadata": {},
   "outputs": [],
   "source": [
    "# hx = Variable(x.new_zeros(x.size(0), x.size(1), 32))\n",
    "\n",
    "# hx = (hx, hx)\n",
    "\n",
    "# hx, cx = hx\n",
    "\n",
    "# input_gate, forget_gate, cell_gate, output_gate = hx.chunk(4, 1)"
   ]
  },
  {
   "cell_type": "code",
   "execution_count": 24,
   "metadata": {},
   "outputs": [],
   "source": [
    "# t_dummy1 = torch.randn(16, 32)\n",
    "# t_dummy2 = torch.randn(16, 32)\n",
    "\n",
    "# print(np.shape(t_dummy1 * t_dummy2))\n",
    "# torch.matmul(t_dummy1, t_dummy2).size()"
   ]
  },
  {
   "cell_type": "code",
   "execution_count": 25,
   "metadata": {},
   "outputs": [
    {
     "data": {
      "application/vnd.jupyter.widget-view+json": {
       "model_id": "6c646137d0964fcfb246980fd539dac5",
       "version_major": 2,
       "version_minor": 0
      },
      "text/plain": [
       "  0%|          | 0/563 [00:00<?, ?batch/s]"
      ]
     },
     "metadata": {},
     "output_type": "display_data"
    },
    {
     "data": {
      "application/vnd.jupyter.widget-view+json": {
       "model_id": "3c9723847f854a86a3340c89318c6d8a",
       "version_major": 2,
       "version_minor": 0
      },
      "text/plain": [
       "  0%|          | 0/188 [00:00<?, ?batch/s]"
      ]
     },
     "metadata": {},
     "output_type": "display_data"
    },
    {
     "data": {
      "application/vnd.jupyter.widget-view+json": {
       "model_id": "59a66009c529466697628b289a81cd64",
       "version_major": 2,
       "version_minor": 0
      },
      "text/plain": [
       "  0%|          | 0/188 [00:00<?, ?batch/s]"
      ]
     },
     "metadata": {},
     "output_type": "display_data"
    },
    {
     "data": {
      "application/vnd.jupyter.widget-view+json": {
       "model_id": "6b6c932ce0914421bf5b5bcd7f3c77ce",
       "version_major": 2,
       "version_minor": 0
      },
      "text/plain": [
       "  0%|          | 0/563 [00:00<?, ?batch/s]"
      ]
     },
     "metadata": {},
     "output_type": "display_data"
    },
    {
     "name": "stdout",
     "output_type": "stream",
     "text": [
      "Epoch [1/3] End, Training Loss: 0.6368., Validation Loss: 0.6295., Training Accuracy: 65.47 %, Validation Accuracy: 49.60 %\n",
      "--------------------------------------\n"
     ]
    },
    {
     "data": {
      "application/vnd.jupyter.widget-view+json": {
       "model_id": "a98a93536c744defac78592af9e2aa7c",
       "version_major": 2,
       "version_minor": 0
      },
      "text/plain": [
       "  0%|          | 0/563 [00:00<?, ?batch/s]"
      ]
     },
     "metadata": {},
     "output_type": "display_data"
    },
    {
     "data": {
      "application/vnd.jupyter.widget-view+json": {
       "model_id": "bbd19ce18e274d02b718a7a2d3c7a0d2",
       "version_major": 2,
       "version_minor": 0
      },
      "text/plain": [
       "  0%|          | 0/188 [00:00<?, ?batch/s]"
      ]
     },
     "metadata": {},
     "output_type": "display_data"
    },
    {
     "data": {
      "application/vnd.jupyter.widget-view+json": {
       "model_id": "2230546cd64f488cbc10f20a07ca91d8",
       "version_major": 2,
       "version_minor": 0
      },
      "text/plain": [
       "  0%|          | 0/188 [00:00<?, ?batch/s]"
      ]
     },
     "metadata": {},
     "output_type": "display_data"
    },
    {
     "data": {
      "application/vnd.jupyter.widget-view+json": {
       "model_id": "195dff197a2e4479bd0066b7f771f1fc",
       "version_major": 2,
       "version_minor": 0
      },
      "text/plain": [
       "  0%|          | 0/563 [00:00<?, ?batch/s]"
      ]
     },
     "metadata": {},
     "output_type": "display_data"
    },
    {
     "name": "stdout",
     "output_type": "stream",
     "text": [
      "Epoch [2/3] End, Training Loss: 0.5622., Validation Loss: 0.6110., Training Accuracy: 65.47 %, Validation Accuracy: 49.60 %\n",
      "--------------------------------------\n"
     ]
    },
    {
     "data": {
      "application/vnd.jupyter.widget-view+json": {
       "model_id": "09a9d5eea4c6450bb6377359b609a833",
       "version_major": 2,
       "version_minor": 0
      },
      "text/plain": [
       "  0%|          | 0/563 [00:00<?, ?batch/s]"
      ]
     },
     "metadata": {},
     "output_type": "display_data"
    },
    {
     "data": {
      "application/vnd.jupyter.widget-view+json": {
       "model_id": "a461c08077b642a387554c85c0c9b674",
       "version_major": 2,
       "version_minor": 0
      },
      "text/plain": [
       "  0%|          | 0/188 [00:00<?, ?batch/s]"
      ]
     },
     "metadata": {},
     "output_type": "display_data"
    },
    {
     "data": {
      "application/vnd.jupyter.widget-view+json": {
       "model_id": "23c70b824c8b4c988f12ac72d05ef676",
       "version_major": 2,
       "version_minor": 0
      },
      "text/plain": [
       "  0%|          | 0/188 [00:00<?, ?batch/s]"
      ]
     },
     "metadata": {},
     "output_type": "display_data"
    },
    {
     "data": {
      "application/vnd.jupyter.widget-view+json": {
       "model_id": "d4d7ae97a44248f5bd6803479ed244db",
       "version_major": 2,
       "version_minor": 0
      },
      "text/plain": [
       "  0%|          | 0/563 [00:00<?, ?batch/s]"
      ]
     },
     "metadata": {},
     "output_type": "display_data"
    },
    {
     "name": "stdout",
     "output_type": "stream",
     "text": [
      "Epoch [3/3] End, Training Loss: 0.5199., Validation Loss: 0.6078., Training Accuracy: 65.47 %, Validation Accuracy: 49.60 %\n",
      "--------------------------------------\n"
     ]
    }
   ],
   "source": [
    "# Train Network\n",
    "hist = train(model=model, loss_fn=bce, optimizer=optimizer, train_loader=train_loader, test_loader=test_loader, num_epochs=num_epochs, history=hist)"
   ]
  },
  {
   "cell_type": "code",
   "execution_count": 26,
   "metadata": {},
   "outputs": [
    {
     "data": {
      "image/png": "[encoded data removed]",
      "text/plain": [
       "<Figure size 1200x600 with 2 Axes>"
      ]
     },
     "metadata": {},
     "output_type": "display_data"
    }
   ],
   "source": [
    "# Plot Learning Curves\n",
    "plot_learning_curve(hist)"
   ]
  },
  {
   "cell_type": "code",
   "execution_count": 27,
   "metadata": {},
   "outputs": [],
   "source": [
    "lstm_1, test_labels = perform_inferencing(model=model, loader=test_loader)\n",
    "\n",
    "cm = confusion_matrix(test_labels, lstm_1, normalize='all')"
   ]
  },
  {
   "cell_type": "code",
   "execution_count": 28,
   "metadata": {},
   "outputs": [
    {
     "data": {
      "image/png": "[encoded data removed]",
      "text/plain": [
       "<Figure size 500x500 with 2 Axes>"
      ]
     },
     "metadata": {},
     "output_type": "display_data"
    }
   ],
   "source": [
    "class_names = ['non-PVA', 'BSA', 'DTA']\n",
    "disp = ConfusionMatrixDisplay(confusion_matrix=cm, display_labels=class_names)\n",
    "\n",
    "fig, ax = plt.subplots(figsize=(5, 5))\n",
    "disp.plot(include_values=True, xticks_rotation='vertical', ax=ax)\n",
    "plt.tight_layout()\n",
    "plt.show()"
   ]
  },
  {
   "cell_type": "code",
   "execution_count": 62,
   "metadata": {},
   "outputs": [],
   "source": [
    "# Define Parameters\n",
    "num_epochs = 3\n",
    "lr = 0.01\n",
    "hist = copy.deepcopy(history)"
   ]
  },
  {
   "cell_type": "code",
   "execution_count": 63,
   "metadata": {},
   "outputs": [],
   "source": [
    "model = LSTM(input_size=2, hidden_units=32, num_layers=3, bias=0, output_size=3).cuda()\n",
    "# You should modify the learning rate as suits the problem\n",
    "optimizer = SGD(model.parameters(), lr=lr)\n",
    "bce = nn.BCEWithLogitsLoss()\n",
    "\n",
    "hist['model'] = 'LSTM Layer3'\n",
    "hist['batch_size'] = batch_size\n",
    "hist['learning_rate'] = lr\n",
    "hist['optimizer'] = 'BCE'"
   ]
  },
  {
   "cell_type": "code",
   "execution_count": 64,
   "metadata": {},
   "outputs": [
    {
     "data": {
      "application/vnd.jupyter.widget-view+json": {
       "model_id": "0c8e1501e7534fff8233cba3d168351d",
       "version_major": 2,
       "version_minor": 0
      },
      "text/plain": [
       "  0%|          | 0/563 [00:00<?, ?batch/s]"
      ]
     },
     "metadata": {},
     "output_type": "display_data"
    },
    {
     "data": {
      "application/vnd.jupyter.widget-view+json": {
       "model_id": "38f0482a78114a36b38330551f80ac61",
       "version_major": 2,
       "version_minor": 0
      },
      "text/plain": [
       "  0%|          | 0/188 [00:00<?, ?batch/s]"
      ]
     },
     "metadata": {},
     "output_type": "display_data"
    },
    {
     "data": {
      "application/vnd.jupyter.widget-view+json": {
       "model_id": "531bb47902bb4460a905ec7f09c0af18",
       "version_major": 2,
       "version_minor": 0
      },
      "text/plain": [
       "  0%|          | 0/188 [00:00<?, ?batch/s]"
      ]
     },
     "metadata": {},
     "output_type": "display_data"
    },
    {
     "data": {
      "application/vnd.jupyter.widget-view+json": {
       "model_id": "e16abb8f44fa41b9907eb8787932a473",
       "version_major": 2,
       "version_minor": 0
      },
      "text/plain": [
       "  0%|          | 0/563 [00:00<?, ?batch/s]"
      ]
     },
     "metadata": {},
     "output_type": "display_data"
    },
    {
     "name": "stdout",
     "output_type": "stream",
     "text": [
      "Epoch [1/3] End, Training Loss: 0.5641., Validation Loss: 0.6285., Training Accuracy: 65.47 %, Validation Accuracy: 49.60 %\n",
      "--------------------------------------\n"
     ]
    },
    {
     "data": {
      "application/vnd.jupyter.widget-view+json": {
       "model_id": "3738b1c4292c42f5a4621c7f5d5b4275",
       "version_major": 2,
       "version_minor": 0
      },
      "text/plain": [
       "  0%|          | 0/563 [00:00<?, ?batch/s]"
      ]
     },
     "metadata": {},
     "output_type": "display_data"
    },
    {
     "data": {
      "application/vnd.jupyter.widget-view+json": {
       "model_id": "922b6e83b9a7471fb56776d73f799f03",
       "version_major": 2,
       "version_minor": 0
      },
      "text/plain": [
       "  0%|          | 0/188 [00:00<?, ?batch/s]"
      ]
     },
     "metadata": {},
     "output_type": "display_data"
    },
    {
     "data": {
      "application/vnd.jupyter.widget-view+json": {
       "model_id": "06172612ab9d4b05a56427e1b1952f7e",
       "version_major": 2,
       "version_minor": 0
      },
      "text/plain": [
       "  0%|          | 0/188 [00:00<?, ?batch/s]"
      ]
     },
     "metadata": {},
     "output_type": "display_data"
    },
    {
     "data": {
      "application/vnd.jupyter.widget-view+json": {
       "model_id": "3733b08046dc4d81af3b300d2c6c499a",
       "version_major": 2,
       "version_minor": 0
      },
      "text/plain": [
       "  0%|          | 0/563 [00:00<?, ?batch/s]"
      ]
     },
     "metadata": {},
     "output_type": "display_data"
    },
    {
     "name": "stdout",
     "output_type": "stream",
     "text": [
      "Epoch [2/3] End, Training Loss: 0.5394., Validation Loss: 0.6101., Training Accuracy: 65.47 %, Validation Accuracy: 49.60 %\n",
      "--------------------------------------\n"
     ]
    },
    {
     "data": {
      "application/vnd.jupyter.widget-view+json": {
       "model_id": "16c8d699ee554113a4cc794b906632bb",
       "version_major": 2,
       "version_minor": 0
      },
      "text/plain": [
       "  0%|          | 0/563 [00:00<?, ?batch/s]"
      ]
     },
     "metadata": {},
     "output_type": "display_data"
    },
    {
     "data": {
      "application/vnd.jupyter.widget-view+json": {
       "model_id": "7fea689851034d7487727aa0853551af",
       "version_major": 2,
       "version_minor": 0
      },
      "text/plain": [
       "  0%|          | 0/188 [00:00<?, ?batch/s]"
      ]
     },
     "metadata": {},
     "output_type": "display_data"
    },
    {
     "data": {
      "application/vnd.jupyter.widget-view+json": {
       "model_id": "0ef07ab8da064e3387055572440ebfcd",
       "version_major": 2,
       "version_minor": 0
      },
      "text/plain": [
       "  0%|          | 0/188 [00:00<?, ?batch/s]"
      ]
     },
     "metadata": {},
     "output_type": "display_data"
    },
    {
     "data": {
      "application/vnd.jupyter.widget-view+json": {
       "model_id": "ff5987d0c6b3491b9f951afb6729d471",
       "version_major": 2,
       "version_minor": 0
      },
      "text/plain": [
       "  0%|          | 0/563 [00:00<?, ?batch/s]"
      ]
     },
     "metadata": {},
     "output_type": "display_data"
    },
    {
     "name": "stdout",
     "output_type": "stream",
     "text": [
      "Epoch [3/3] End, Training Loss: 0.4236., Validation Loss: 0.6070., Training Accuracy: 65.47 %, Validation Accuracy: 49.60 %\n",
      "--------------------------------------\n"
     ]
    }
   ],
   "source": [
    "# Train Network\n",
    "hist = train(model=model, loss_fn=bce, optimizer=optimizer, train_loader=train_loader, test_loader=test_loader, num_epochs=num_epochs, history=hist)"
   ]
  },
  {
   "cell_type": "code",
   "execution_count": 65,
   "metadata": {},
   "outputs": [
    {
     "data": {
      "image/png": "[encoded data removed]",
      "text/plain": [
       "<Figure size 1200x600 with 2 Axes>"
      ]
     },
     "metadata": {},
     "output_type": "display_data"
    }
   ],
   "source": [
    "# Plot Learning Curves\n",
    "plot_learning_curve(hist)"
   ]
  },
  {
   "cell_type": "code",
   "execution_count": 66,
   "metadata": {},
   "outputs": [],
   "source": [
    "lstm_1, test_labels = perform_inferencing(model=model, loader=test_loader)\n",
    "\n",
    "cm = confusion_matrix(test_labels, lstm_1, normalize='all')"
   ]
  },
  {
   "cell_type": "code",
   "execution_count": 67,
   "metadata": {},
   "outputs": [
    {
     "data": {
      "image/png": "[encoded data removed]",
      "text/plain": [
       "<Figure size 500x500 with 2 Axes>"
      ]
     },
     "metadata": {},
     "output_type": "display_data"
    }
   ],
   "source": [
    "class_names = ['non-PVA', 'BSA', 'DTA']\n",
    "disp = ConfusionMatrixDisplay(confusion_matrix=cm, display_labels=class_names)\n",
    "\n",
    "fig, ax = plt.subplots(figsize=(5, 5))\n",
    "disp.plot(include_values=True, xticks_rotation='vertical', ax=ax)\n",
    "plt.tight_layout()\n",
    "plt.show()"
   ]
  },
  {
   "cell_type": "markdown",
   "metadata": {},
   "source": [
    "## ARDS Detection"
   ]
  },
  {
   "cell_type": "markdown",
   "metadata": {},
   "source": [
    "Regardless of whether you were successful on your last assignment, the design was to show you the internal mechanism about how LSTM works.\n",
    "\n",
    "In this assignment you will utilize a dataset of ventilation data taken from 50 subjects. 25 subjects have ARDS, 25 subjects do not have ARDS. Your job is to extract waveform data, and utilize it to perform inferencing on whether the patient has ARDS or not.\n",
    "\n",
    "1. Use basic CNN architecture to perform classification on whether patient has ARDS or not\n",
    "2. Add LSTM to CNN architecture, do results improve? if not why? In this assignment you should use the [PyTorch LSTM layer.](https://pytorch.org/docs/stable/generated/torch.nn.LSTM.html)"
   ]
  },
  {
   "cell_type": "markdown",
   "metadata": {},
   "source": [
    "### Data\n",
    "\n",
    "The data that we use here is ventilation data but it is structured a bit differently than the PVA dataset. Primarily, the data is structured in continuous breath sequences instead of single breaths. Here is an example.\n",
    "\n",
    "<img src=ards-data.png width=50% height=auto\\>\n",
    "\n",
    "This has a few advantages: \n",
    "\n",
    "1. We don't need padding anymore\n",
    "2. It improves performance of our model\n",
    "\n",
    "We stack 20 of these breaths together into a tensor that is in shape `(20, 1, 224)`. This allows us to analyze sequential breaths with an LSTM if we desire. "
   ]
  },
  {
   "cell_type": "code",
   "execution_count": null,
   "metadata": {},
   "outputs": [],
   "source": [
    "from pathlib import Path\n",
    "\n",
    "from torch.utils.data import DataLoader\n",
    "\n",
    "from dataset import ARDSDataset\n",
    "\n",
    "batch_size = 32\n",
    "\n",
    "\n",
    "def get_dataset(path, name):\n",
    "    saved_set = Path(path)\n",
    "    # Make sure we save previously processed data. This speeds up future processes.\n",
    "    if saved_set.exists():\n",
    "        dataset = ARDSDataset.from_pickle(saved_set.resolve())\n",
    "    else:\n",
    "        dataset = ARDSDataset(224, name, to_pickle=saved_set.resolve())\n",
    "    return dataset\n",
    "        \n",
    "        \n",
    "def get_all_datasets():\n",
    "    training_set = get_dataset('ards_training_set.pkl', 'train')\n",
    "    validation_set = get_dataset('ards_validation_set.pkl', 'val')\n",
    "    testing_set = get_dataset('ards_testing_set.pkl', 'test')\n",
    "    return training_set, validation_set, testing_set\n",
    "\n",
    "\n",
    "training_set, validation_set, testing_set = get_all_datasets()\n",
    "train_loader = DataLoader(training_set, batch_size=batch_size, shuffle=True)\n",
    "val_loader = DataLoader(validation_set, batch_size=batch_size, shuffle=False)\n",
    "test_loader = DataLoader(testing_set, batch_size=batch_size, shuffle=False)"
   ]
  },
  {
   "cell_type": "code",
   "execution_count": null,
   "metadata": {},
   "outputs": [],
   "source": [
    "for i, set in enumerate(train_loader):\n",
    "    data = set[1]\n",
    "    label = set[0]\n",
    "    print(np.shape(data))\n",
    "    print(np.shape(label))\n",
    "\n",
    "    if i == 3:\n",
    "        break\n",
    "\n",
    "plt.plot(data[0, 0, 0, :], label='flow')\n",
    "plt.legend()\n",
    "plt.show()"
   ]
  },
  {
   "cell_type": "code",
   "execution_count": null,
   "metadata": {},
   "outputs": [],
   "source": [
    "from torch import nn\n",
    "from torch.optim import SGD\n",
    "\n",
    "from cnn_lstm_net import CNNLSTMNetwork\n",
    "from densenet import densenet18\n",
    "\n",
    "\n",
    "# You are welcome to evaluate other CNN backbones\n",
    "cnn = densenet18()\n",
    "\n",
    "# feel free to modify these parameters\n",
    "lstm_hidden_units = 128\n",
    "lstm_layers = 1\n",
    "\n",
    "# 0 means there is 0% probability of dropout happening\n",
    "lstm_dropout = 0\n",
    "\n",
    "model = CNNLSTMNetwork(cnn, lstm_hidden_units, lstm_layers, lstm_dropout)\n",
    "\n",
    "# We highly recommend using SGD for this problem\n",
    "optimizer = SGD(model.parameters(), lr=0.001, momentum=0.9, weight_decay=0.0001)\n",
    "bce = nn.BCEWithLogitsLoss()"
   ]
  },
  {
   "cell_type": "code",
   "execution_count": null,
   "metadata": {},
   "outputs": [],
   "source": []
  }
 ],
 "metadata": {
  "kernelspec": {
   "display_name": "Python 3",
   "language": "python",
   "name": "python3"
  },
  "language_info": {
   "codemirror_mode": {
    "name": "ipython",
    "version": 3
   },
   "file_extension": ".py",
   "mimetype": "text/x-python",
   "name": "python",
   "nbconvert_exporter": "python",
   "pygments_lexer": "ipython3",
   "version": "3.10.8"
  },
  "latex_envs": {
   "LaTeX_envs_menu_present": true,
   "autoclose": false,
   "autocomplete": true,
   "bibliofile": "biblio.bib",
   "cite_by": "apalike",
   "current_citInitial": 1,
   "eqLabelWithNumbers": true,
   "eqNumInitial": 1,
   "hotkeys": {
    "equation": "Ctrl-E",
    "itemize": "Ctrl-I"
   },
   "labels_anchors": false,
   "latex_user_defs": false,
   "report_style_numbering": false,
   "user_envs_cfg": false
  }
 },
 "nbformat": 4,
 "nbformat_minor": 2
}
